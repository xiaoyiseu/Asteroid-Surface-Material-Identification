{
 "cells": [
  {
   "cell_type": "markdown",
   "metadata": {},
   "source": [
    "# 1.导入依赖包"
   ]
  },
  {
   "cell_type": "code",
   "execution_count": 1,
   "metadata": {
    "scrolled": false
   },
   "outputs": [
    {
     "name": "stderr",
     "output_type": "stream",
     "text": [
      "Using TensorFlow backend.\n"
     ]
    }
   ],
   "source": [
    "from __future__ import print_function\n",
    "import pandas as pd\n",
    "import numpy as np\n",
    "from tensorflow.keras.models import Sequential\n",
    "from tensorflow.keras.layers import Dense, Dropout, Activation, Embedding\n",
    "from tensorflow.keras.layers import LSTM, SimpleRNN, GRU\n",
    "from sklearn.metrics import (precision_score, recall_score,\n",
    "                             f1_score, accuracy_score,mean_squared_error,mean_absolute_error)\n",
    "from sklearn import metrics\n",
    "from sklearn.preprocessing import Normalizer\n",
    "import h5py, os\n",
    "from tensorflow.keras import callbacks\n",
    "import tensorflow as tf\n",
    "import torch\n",
    "import random\n",
    "import pickle\n",
    "import matplotlib.pyplot as plt\n",
    "import pywt\n",
    "# -*- coding: utf-8 -*-\n",
    "from tensorflow.keras.utils import plot_model\n",
    "import numpy as np\n",
    "from sklearn.preprocessing import MultiLabelBinarizer\n",
    "from tensorflow.keras.models import Model\n",
    "from tensorflow.keras.optimizers import Adam\n",
    "from tensorflow.keras.layers import Input, Dense\n",
    "from att import Attention\n",
    "\n",
    "from tensorflow.keras.layers import GRU, Bidirectional\n",
    "from tqdm import tqdm\n",
    "import matplotlib.pyplot as plt\n",
    "import os\n",
    "import warnings\n",
    "warnings.filterwarnings('ignore')\n",
    "import pandas as pd\n",
    "from tensorflow.keras.layers import Conv2D, MaxPooling2D, GlobalAveragePooling2D, Activation, Average, Dropout, Flatten,BatchNormalization\n",
    "from tensorflow.keras import layers\n",
    "import tensorflow as tf   \n",
    "tf.get_logger().setLevel('ERROR')"
   ]
  },
  {
   "cell_type": "code",
   "execution_count": 2,
   "metadata": {},
   "outputs": [],
   "source": [
    "import warnings\n",
    "warnings.filterwarnings(\"ignore\")"
   ]
  },
  {
   "cell_type": "code",
   "execution_count": 3,
   "metadata": {},
   "outputs": [],
   "source": [
    "os.environ[\"CUDA_DEVICE_ORDER\"]=\"PCI_BUS_ID\"\n",
    "os.environ[\"CUDA_VISIBLE_DEVICES\"]= \"0\""
   ]
  },
  {
   "cell_type": "markdown",
   "metadata": {},
   "source": [
    "# 2.导入数据集"
   ]
  },
  {
   "cell_type": "code",
   "execution_count": 4,
   "metadata": {},
   "outputs": [],
   "source": [
    "Label_material = {'gravel':0, 'M1(gravel+sand)':1, 'M2(sand+silicarock)':2, 'M3(gravel+silicarock)':3, 'regolith':5, 'sand':4, 'silicarock':6}"
   ]
  },
  {
   "cell_type": "code",
   "execution_count": 5,
   "metadata": {},
   "outputs": [],
   "source": [
    "def plot_signal_decomp(data, w, title, tag):\n",
    "        \"\"\"Decompose and plot a signal S.\n",
    "        S = An + Dn + Dn-1 + ... + D1\n",
    "        \"\"\"\n",
    "        ca = []  # 近似分量\n",
    "        cd = []  # 细节分量\n",
    "        w = pywt.Wavelet(w)\n",
    "        if tag=='vibration':\n",
    "            a = data\n",
    "            for i in range(2):\n",
    "                (a, d) = pywt.dwt(a, w, pywt.Modes.smooth)\n",
    "                ca.append(a)\n",
    "                cd.append(d)\n",
    "        elif tag=='fusion':\n",
    "            for i in range(9):\n",
    "                (a, d) = pywt.dwt(data, w, pywt.Modes.smooth)\n",
    "                ca.append(a)\n",
    "                cd.append(d)\n",
    "        rec_a = []\n",
    "        rec_d = []\n",
    "        for i, coeff in enumerate(ca):\n",
    "            coeff_list = [coeff, None] + [None] * i\n",
    "            rec_a.append(pywt.waverec(coeff_list, w))  # 重构\n",
    "            \n",
    "        for i, coeff in enumerate(cd):\n",
    "            coeff_list = [None, coeff] + [None] * i\n",
    "            rec_d.append(pywt.waverec(coeff_list, w))\n",
    "        return rec_a, rec_d\n",
    "\n",
    "def Cal(data, length):\n",
    "    data = list(data)\n",
    "    ind = data.index(max(data))\n",
    "    if (length/2) <= ind <= (len(data)-(length/2)):\n",
    "        return np.array(data[int(ind-(length/2)): int(ind+(length/2))])\n",
    "    elif ind<(length/2):\n",
    "        return np.array(data[: length])\n",
    "    elif len(data) - ind<(length/2):\n",
    "        return np.array(data[-length: ])\n",
    "    else:\n",
    "         print('error!!')\n",
    "\n",
    "def PrePro(x):\n",
    "    scaler = Normalizer().fit(x)\n",
    "    testX = scaler.transform(x)\n",
    "    return [testX]"
   ]
  },
  {
   "cell_type": "code",
   "execution_count": 6,
   "metadata": {},
   "outputs": [],
   "source": [
    "def FeaturesAccquir(path):\n",
    "    Materials = os.listdir(path)\n",
    "    labels = []\n",
    "    Feature = np.empty(shape=(1, 1, 3600))\n",
    "    for mater_name in tqdm(Materials):        \n",
    "        path_material_ = os.path.join(path, mater_name)\n",
    "        wave_list = os.listdir(path_material_)\n",
    "        for name_wave in wave_list:\n",
    "            signal=[]\n",
    "            labels.append(Label_material[mater_name])\n",
    "            wave_path_sigle = os.path.join(path_material_, name_wave)\n",
    "            Wavelet = 'coif8'\n",
    "            data = np.loadtxt(wave_path_sigle, dtype=object)\n",
    "            \n",
    "            An, D = plot_signal_decomp(data, Wavelet, \"DWT: Signal irregularity\", 'fusion') \n",
    "            Data = np.concatenate((An, D))\n",
    "            length = 200\n",
    "            for sig in Data:\n",
    "                signal.extend(Cal(sig, length))\n",
    "            y = PrePro(np.array(signal).reshape(1,-1))\n",
    "            Feature = np.vstack((Feature, y))\n",
    "\n",
    "    return Feature[1:], labels"
   ]
  },
  {
   "cell_type": "code",
   "execution_count": 7,
   "metadata": {},
   "outputs": [],
   "source": [
    "path_FI = r'D:\\Triage\\Bayesian_Network\\NewTIM\\Recognition\\Experiment\\data\\5fold'\n",
    "# List= os.listdir(path_FI)\n",
    "train_dir = os.path.join(path_FI, 'train')\n",
    "test_dir = os.path.join(path_FI, 'test_add')"
   ]
  },
  {
   "cell_type": "code",
   "execution_count": 8,
   "metadata": {},
   "outputs": [],
   "source": [
    "from tqdm import tqdm\n",
    "from sklearn import preprocessing\n",
    "import threading"
   ]
  },
  {
   "cell_type": "code",
   "execution_count": 9,
   "metadata": {},
   "outputs": [],
   "source": [
    "# x_train, y_train =  FeaturesAccquir(train_dir)\n",
    "# x_test, y_test =  FeaturesAccquir(test_dir)"
   ]
  },
  {
   "cell_type": "code",
   "execution_count": 10,
   "metadata": {
    "scrolled": false
   },
   "outputs": [
    {
     "name": "stdout",
     "output_type": "stream",
     "text": [
      "开始转换！\n",
      "开始转换！\n"
     ]
    },
    {
     "name": "stderr",
     "output_type": "stream",
     "text": [
      "  0%|                                                                                            | 0/7 [00:00<?, ?it/s]\n",
      "  0%|                                                                                            | 0/3 [00:00<?, ?it/s]\u001b[A\n",
      " 33%|███████████████████████████▋                                                       | 1/3 [02:12<04:25, 132.69s/it]\u001b[A\n",
      " 14%|███████████▊                                                                       | 1/7 [05:24<32:26, 324.44s/it]\u001b[A\n",
      "100%|███████████████████████████████████████████████████████████████████████████████████| 3/3 [06:36<00:00, 132.04s/it]\u001b[A"
     ]
    },
    {
     "name": "stdout",
     "output_type": "stream",
     "text": [
      "转换结束！\n"
     ]
    },
    {
     "name": "stderr",
     "output_type": "stream",
     "text": [
      "\n",
      "100%|███████████████████████████████████████████████████████████████████████████████████| 7/7 [25:34<00:00, 219.21s/it]\n"
     ]
    },
    {
     "name": "stdout",
     "output_type": "stream",
     "text": [
      "转换结束！\n"
     ]
    }
   ],
   "source": [
    "class Train_Test(threading.Thread):\n",
    "    def __init__(self, path):\n",
    "        super(Train_Test, self).__init__()\n",
    "        self.path = path\n",
    "    def run(self):\n",
    "        print('开始转换！')\n",
    "        self.result = FeaturesAccquir(self.path)\n",
    "        print('转换结束！')\n",
    "    def get_result(self):\n",
    "        try:  \n",
    "            return self.result  \n",
    "        except Exception as e:  \n",
    "            return None\n",
    "\n",
    "thread1 = Train_Test(train_dir)\n",
    "thread2 = Train_Test(test_dir)\n",
    "\n",
    "thread_lists = [thread1, thread2]\n",
    "for thread in thread_lists:\n",
    "    thread.start()\n",
    "thread.join()"
   ]
  },
  {
   "cell_type": "code",
   "execution_count": 11,
   "metadata": {},
   "outputs": [],
   "source": [
    "x_train, y_train  =  thread1.get_result()\n",
    "x_test, y_test =  thread2.get_result()"
   ]
  },
  {
   "cell_type": "code",
   "execution_count": 12,
   "metadata": {},
   "outputs": [
    {
     "data": {
      "text/plain": [
       "((634, 1, 3600), (634,))"
      ]
     },
     "execution_count": 12,
     "metadata": {},
     "output_type": "execute_result"
    }
   ],
   "source": [
    "np.array(x_test).shape, np.array(y_test).shape"
   ]
  },
  {
   "cell_type": "markdown",
   "metadata": {},
   "source": [
    "### 训练集"
   ]
  },
  {
   "cell_type": "code",
   "execution_count": 13,
   "metadata": {},
   "outputs": [
    {
     "name": "stdout",
     "output_type": "stream",
     "text": [
      "test: Counter({0: 213, 4: 211, 1: 210})\n"
     ]
    }
   ],
   "source": [
    "from collections import Counter\n",
    "# print('train:',Counter(list(y_train)),'\\n'*2, 'test:',Counter(list(y_test)))\n",
    "print( 'test:',Counter(list(y_test)))"
   ]
  },
  {
   "cell_type": "markdown",
   "metadata": {},
   "source": [
    "# 3.定义模型"
   ]
  },
  {
   "cell_type": "markdown",
   "metadata": {},
   "source": [
    "### BiGRU+Attention"
   ]
  },
  {
   "cell_type": "code",
   "execution_count": 14,
   "metadata": {},
   "outputs": [],
   "source": [
    "# 模型结构：双向GRU + Attention + FC\n",
    "def ABRNN():\n",
    "    inputs = Input(shape=(1, 3600, ), name=\"input\")\n",
    "    lstm = Bidirectional(LSTM(128, dropout=0.2, return_sequences=True), name=\"bi-lstm\")(inputs)\n",
    "    gru = Bidirectional(GRU(128, dropout=0.2, return_sequences=True), name=\"bi-gru\")(inputs)\n",
    "    \n",
    "    attention1 = Attention(32, name=\"attention1\")(lstm)\n",
    "    attention2 = Attention(32, name=\"attention2\")(gru)\n",
    "#     output = GlobalAveragePooling2D()(x)\n",
    "\n",
    "    output = layers.concatenate([attention1, attention2], axis=-1)\n",
    "    output = Dense(7, activation='softmax', name=\"dense\")(output)\n",
    "    model = Model(inputs, output)\n",
    "    \n",
    "    model.compile(loss='sparse_categorical_crossentropy',\n",
    "                  optimizer=Adam(),\n",
    "                  metrics=['accuracy'])\n",
    "    model.build((1, 3600, )) \n",
    "    return model\n",
    "model = ABRNN()"
   ]
  },
  {
   "cell_type": "code",
   "execution_count": 15,
   "metadata": {
    "scrolled": false
   },
   "outputs": [],
   "source": [
    "# plot_model(model, to_file='./ImageRecord/ModelStructure'+'/'+NAME+'.png', show_shapes=True, dpi=1000)\n",
    "# plot_model(model, show_shapes = True)"
   ]
  },
  {
   "cell_type": "code",
   "execution_count": 16,
   "metadata": {},
   "outputs": [],
   "source": [
    "def Shulffle(x,y):\n",
    "    np.random.seed(200)\n",
    "    np.random.shuffle(x) \n",
    "    np.random.seed(200)\n",
    "    np.random.shuffle(y) \n",
    "    return x,y\n",
    "x_train, y_train = Shulffle(x_train, y_train)\n",
    "x_test, y_test = Shulffle(x_test, y_test)"
   ]
  },
  {
   "cell_type": "code",
   "execution_count": 17,
   "metadata": {},
   "outputs": [],
   "source": [
    "import glob\n",
    "import warnings, time\n",
    "warnings.filterwarnings(\"ignore\")\n",
    "from sklearn.model_selection import StratifiedKFold\n",
    "from keras.callbacks import ModelCheckpoint\n",
    "from tensorflow.keras.callbacks import EarlyStopping\n",
    "\n",
    "seed = 42  # 随机种子\n",
    "np.random.seed(seed)  # 生成固定的随机数\n",
    "num_k = 5  # 多少折\n",
    "# 整个数据集(自己定义)\n",
    "X, Y = x_train, np.array(y_train)\n",
    "kfold = StratifiedKFold(n_splits=num_k, shuffle=True, random_state=seed) "
   ]
  },
  {
   "cell_type": "code",
   "execution_count": 19,
   "metadata": {
    "scrolled": true
   },
   "outputs": [
    {
     "name": "stdout",
     "output_type": "stream",
     "text": [
      "Train on 2973 samples, validate on 744 samples\n",
      "Epoch 1/1000\n",
      "\n",
      "Epoch 00001: val_acc improved from -inf to 0.62903, saving model to D:\\Triage\\Bayesian_Network\\NewTIM\\Recognition\\Experiment\\weights\\Revise2\\Vibration\\5fold/ABRNN\\1\\ABRNN-val_acc0.6290-01.hdf5\n",
      "2973/2973 - 5s - loss: 1.1981 - acc: 0.5180 - val_loss: 0.9785 - val_acc: 0.6290\n",
      "Epoch 2/1000\n",
      "\n",
      "Epoch 00002: val_acc improved from 0.62903 to 0.64919, saving model to D:\\Triage\\Bayesian_Network\\NewTIM\\Recognition\\Experiment\\weights\\Revise2\\Vibration\\5fold/ABRNN\\1\\ABRNN-val_acc0.6492-02.hdf5\n",
      "2973/2973 - 2s - loss: 0.9226 - acc: 0.6266 - val_loss: 0.9521 - val_acc: 0.6492\n",
      "Epoch 3/1000\n",
      "\n",
      "Epoch 00003: val_acc improved from 0.64919 to 0.67339, saving model to D:\\Triage\\Bayesian_Network\\NewTIM\\Recognition\\Experiment\\weights\\Revise2\\Vibration\\5fold/ABRNN\\1\\ABRNN-val_acc0.6734-03.hdf5\n",
      "2973/2973 - 2s - loss: 0.8424 - acc: 0.6700 - val_loss: 0.8533 - val_acc: 0.6734\n",
      "Epoch 4/1000\n",
      "\n",
      "Epoch 00004: val_acc did not improve from 0.67339\n",
      "2973/2973 - 2s - loss: 0.7736 - acc: 0.7023 - val_loss: 0.9280 - val_acc: 0.6478\n",
      "Epoch 5/1000\n",
      "\n",
      "Epoch 00005: val_acc improved from 0.67339 to 0.68952, saving model to D:\\Triage\\Bayesian_Network\\NewTIM\\Recognition\\Experiment\\weights\\Revise2\\Vibration\\5fold/ABRNN\\1\\ABRNN-val_acc0.6895-05.hdf5\n",
      "2973/2973 - 3s - loss: 0.7354 - acc: 0.7111 - val_loss: 0.8173 - val_acc: 0.6895\n",
      "Epoch 6/1000\n",
      "\n",
      "Epoch 00006: val_acc improved from 0.68952 to 0.73522, saving model to D:\\Triage\\Bayesian_Network\\NewTIM\\Recognition\\Experiment\\weights\\Revise2\\Vibration\\5fold/ABRNN\\1\\ABRNN-val_acc0.7352-06.hdf5\n",
      "2973/2973 - 3s - loss: 0.6945 - acc: 0.7366 - val_loss: 0.7284 - val_acc: 0.7352\n",
      "Epoch 7/1000\n",
      "\n",
      "Epoch 00007: val_acc did not improve from 0.73522\n",
      "2973/2973 - 2s - loss: 0.6688 - acc: 0.7434 - val_loss: 0.6978 - val_acc: 0.7258\n",
      "Epoch 8/1000\n",
      "\n",
      "Epoch 00008: val_acc did not improve from 0.73522\n",
      "2973/2973 - 2s - loss: 0.6343 - acc: 0.7568 - val_loss: 0.7691 - val_acc: 0.6976\n",
      "Epoch 9/1000\n",
      "\n",
      "Epoch 00009: val_acc improved from 0.73522 to 0.74462, saving model to D:\\Triage\\Bayesian_Network\\NewTIM\\Recognition\\Experiment\\weights\\Revise2\\Vibration\\5fold/ABRNN\\1\\ABRNN-val_acc0.7446-09.hdf5\n",
      "2973/2973 - 2s - loss: 0.6258 - acc: 0.7578 - val_loss: 0.6738 - val_acc: 0.7446\n",
      "Epoch 10/1000\n",
      "\n",
      "Epoch 00010: val_acc improved from 0.74462 to 0.74866, saving model to D:\\Triage\\Bayesian_Network\\NewTIM\\Recognition\\Experiment\\weights\\Revise2\\Vibration\\5fold/ABRNN\\1\\ABRNN-val_acc0.7487-10.hdf5\n",
      "2973/2973 - 2s - loss: 0.5988 - acc: 0.7686 - val_loss: 0.7088 - val_acc: 0.7487\n",
      "Epoch 11/1000\n",
      "\n",
      "Epoch 00011: val_acc did not improve from 0.74866\n",
      "2973/2973 - 2s - loss: 0.5794 - acc: 0.7730 - val_loss: 0.6806 - val_acc: 0.7433\n",
      "Epoch 12/1000\n",
      "\n",
      "Epoch 00012: val_acc improved from 0.74866 to 0.75538, saving model to D:\\Triage\\Bayesian_Network\\NewTIM\\Recognition\\Experiment\\weights\\Revise2\\Vibration\\5fold/ABRNN\\1\\ABRNN-val_acc0.7554-12.hdf5\n",
      "2973/2973 - 2s - loss: 0.5644 - acc: 0.7780 - val_loss: 0.6455 - val_acc: 0.7554\n",
      "Epoch 13/1000\n",
      "\n",
      "Epoch 00013: val_acc did not improve from 0.75538\n",
      "2973/2973 - 2s - loss: 0.5425 - acc: 0.7928 - val_loss: 0.7260 - val_acc: 0.7097\n",
      "Epoch 14/1000\n",
      "\n",
      "Epoch 00014: val_acc did not improve from 0.75538\n",
      "2973/2973 - 2s - loss: 0.5279 - acc: 0.7952 - val_loss: 0.6614 - val_acc: 0.7419\n",
      "Epoch 15/1000\n",
      "\n",
      "Epoch 00015: val_acc improved from 0.75538 to 0.78360, saving model to D:\\Triage\\Bayesian_Network\\NewTIM\\Recognition\\Experiment\\weights\\Revise2\\Vibration\\5fold/ABRNN\\1\\ABRNN-val_acc0.7836-15.hdf5\n",
      "2973/2973 - 2s - loss: 0.5195 - acc: 0.7982 - val_loss: 0.6100 - val_acc: 0.7836\n",
      "Epoch 16/1000\n",
      "\n",
      "Epoch 00016: val_acc did not improve from 0.78360\n",
      "2973/2973 - 2s - loss: 0.5009 - acc: 0.8076 - val_loss: 0.6095 - val_acc: 0.7715\n",
      "Epoch 17/1000\n",
      "\n",
      "Epoch 00017: val_acc improved from 0.78360 to 0.79167, saving model to D:\\Triage\\Bayesian_Network\\NewTIM\\Recognition\\Experiment\\weights\\Revise2\\Vibration\\5fold/ABRNN\\1\\ABRNN-val_acc0.7917-17.hdf5\n",
      "2973/2973 - 2s - loss: 0.4858 - acc: 0.8177 - val_loss: 0.5942 - val_acc: 0.7917\n",
      "Epoch 18/1000\n",
      "\n",
      "Epoch 00018: val_acc did not improve from 0.79167\n",
      "2973/2973 - 2s - loss: 0.4689 - acc: 0.8241 - val_loss: 0.6065 - val_acc: 0.7836\n",
      "Epoch 19/1000\n",
      "\n",
      "Epoch 00019: val_acc did not improve from 0.79167\n",
      "2973/2973 - 2s - loss: 0.4706 - acc: 0.8274 - val_loss: 0.5989 - val_acc: 0.7796\n",
      "Epoch 20/1000\n",
      "\n",
      "Epoch 00020: val_acc did not improve from 0.79167\n",
      "2973/2973 - 2s - loss: 0.4532 - acc: 0.8254 - val_loss: 0.6081 - val_acc: 0.7742\n",
      "Epoch 21/1000\n",
      "\n",
      "Epoch 00021: val_acc did not improve from 0.79167\n",
      "2973/2973 - 2s - loss: 0.4403 - acc: 0.8385 - val_loss: 0.6574 - val_acc: 0.7608\n",
      "Epoch 22/1000\n",
      "\n",
      "Epoch 00022: val_acc did not improve from 0.79167\n",
      "2973/2973 - 2s - loss: 0.4378 - acc: 0.8338 - val_loss: 0.5996 - val_acc: 0.7769\n",
      "Epoch 00022: early stopping\n",
      "634/634 - 0s - loss: 0.4718 - acc: 0.7997\n",
      "Train on 2973 samples, validate on 744 samples\n",
      "Epoch 1/1000\n",
      "\n",
      "Epoch 00001: val_acc improved from -inf to 0.59946, saving model to D:\\Triage\\Bayesian_Network\\NewTIM\\Recognition\\Experiment\\weights\\Revise2\\Vibration\\5fold/ABRNN\\2\\ABRNN-val_acc0.5995-01.hdf5\n",
      "2973/2973 - 5s - loss: 1.1929 - acc: 0.5358 - val_loss: 1.0437 - val_acc: 0.5995\n",
      "Epoch 2/1000\n",
      "\n",
      "Epoch 00002: val_acc improved from 0.59946 to 0.61828, saving model to D:\\Triage\\Bayesian_Network\\NewTIM\\Recognition\\Experiment\\weights\\Revise2\\Vibration\\5fold/ABRNN\\2\\ABRNN-val_acc0.6183-02.hdf5\n",
      "2973/2973 - 2s - loss: 0.9202 - acc: 0.6398 - val_loss: 0.9138 - val_acc: 0.6183\n",
      "Epoch 3/1000\n",
      "\n",
      "Epoch 00003: val_acc improved from 0.61828 to 0.68683, saving model to D:\\Triage\\Bayesian_Network\\NewTIM\\Recognition\\Experiment\\weights\\Revise2\\Vibration\\5fold/ABRNN\\2\\ABRNN-val_acc0.6868-03.hdf5\n",
      "2973/2973 - 2s - loss: 0.8460 - acc: 0.6794 - val_loss: 0.7908 - val_acc: 0.6868\n",
      "Epoch 4/1000\n",
      "\n",
      "Epoch 00004: val_acc did not improve from 0.68683\n",
      "2973/2973 - 2s - loss: 0.7990 - acc: 0.6983 - val_loss: 0.8589 - val_acc: 0.6586\n",
      "Epoch 5/1000\n",
      "\n",
      "Epoch 00005: val_acc improved from 0.68683 to 0.71640, saving model to D:\\Triage\\Bayesian_Network\\NewTIM\\Recognition\\Experiment\\weights\\Revise2\\Vibration\\5fold/ABRNN\\2\\ABRNN-val_acc0.7164-05.hdf5\n",
      "2973/2973 - 3s - loss: 0.7492 - acc: 0.7080 - val_loss: 0.7243 - val_acc: 0.7164\n",
      "Epoch 6/1000\n",
      "\n",
      "Epoch 00006: val_acc improved from 0.71640 to 0.72984, saving model to D:\\Triage\\Bayesian_Network\\NewTIM\\Recognition\\Experiment\\weights\\Revise2\\Vibration\\5fold/ABRNN\\2\\ABRNN-val_acc0.7298-06.hdf5\n",
      "2973/2973 - 3s - loss: 0.7087 - acc: 0.7366 - val_loss: 0.6943 - val_acc: 0.7298\n",
      "Epoch 7/1000\n",
      "\n",
      "Epoch 00007: val_acc did not improve from 0.72984\n",
      "2973/2973 - 2s - loss: 0.6765 - acc: 0.7430 - val_loss: 0.6799 - val_acc: 0.7245\n",
      "Epoch 8/1000\n",
      "\n",
      "Epoch 00008: val_acc improved from 0.72984 to 0.74866, saving model to D:\\Triage\\Bayesian_Network\\NewTIM\\Recognition\\Experiment\\weights\\Revise2\\Vibration\\5fold/ABRNN\\2\\ABRNN-val_acc0.7487-08.hdf5\n",
      "2973/2973 - 2s - loss: 0.6540 - acc: 0.7548 - val_loss: 0.6347 - val_acc: 0.7487\n",
      "Epoch 9/1000\n",
      "\n",
      "Epoch 00009: val_acc did not improve from 0.74866\n",
      "2973/2973 - 2s - loss: 0.6313 - acc: 0.7555 - val_loss: 0.6393 - val_acc: 0.7352\n",
      "Epoch 10/1000\n",
      "\n",
      "Epoch 00010: val_acc did not improve from 0.74866\n",
      "2973/2973 - 2s - loss: 0.6161 - acc: 0.7615 - val_loss: 0.6263 - val_acc: 0.7473\n",
      "Epoch 11/1000\n",
      "\n",
      "Epoch 00011: val_acc did not improve from 0.74866\n",
      "2973/2973 - 2s - loss: 0.5922 - acc: 0.7719 - val_loss: 0.6671 - val_acc: 0.7419\n",
      "Epoch 12/1000\n",
      "\n",
      "Epoch 00012: val_acc improved from 0.74866 to 0.76344, saving model to D:\\Triage\\Bayesian_Network\\NewTIM\\Recognition\\Experiment\\weights\\Revise2\\Vibration\\5fold/ABRNN\\2\\ABRNN-val_acc0.7634-12.hdf5\n",
      "2973/2973 - 2s - loss: 0.5821 - acc: 0.7830 - val_loss: 0.5920 - val_acc: 0.7634\n",
      "Epoch 13/1000\n",
      "\n",
      "Epoch 00013: val_acc did not improve from 0.76344\n",
      "2973/2973 - 2s - loss: 0.5804 - acc: 0.7753 - val_loss: 0.6345 - val_acc: 0.7487\n",
      "Epoch 14/1000\n",
      "\n",
      "Epoch 00014: val_acc did not improve from 0.76344\n",
      "2973/2973 - 2s - loss: 0.5641 - acc: 0.7861 - val_loss: 0.6156 - val_acc: 0.7581\n",
      "Epoch 15/1000\n",
      "\n",
      "Epoch 00015: val_acc improved from 0.76344 to 0.76613, saving model to D:\\Triage\\Bayesian_Network\\NewTIM\\Recognition\\Experiment\\weights\\Revise2\\Vibration\\5fold/ABRNN\\2\\ABRNN-val_acc0.7661-15.hdf5\n",
      "2973/2973 - 2s - loss: 0.5304 - acc: 0.7948 - val_loss: 0.5934 - val_acc: 0.7661\n",
      "Epoch 16/1000\n",
      "\n",
      "Epoch 00016: val_acc improved from 0.76613 to 0.76882, saving model to D:\\Triage\\Bayesian_Network\\NewTIM\\Recognition\\Experiment\\weights\\Revise2\\Vibration\\5fold/ABRNN\\2\\ABRNN-val_acc0.7688-16.hdf5\n",
      "2973/2973 - 2s - loss: 0.5144 - acc: 0.8069 - val_loss: 0.5890 - val_acc: 0.7688\n"
     ]
    },
    {
     "name": "stdout",
     "output_type": "stream",
     "text": [
      "Epoch 17/1000\n",
      "\n",
      "Epoch 00017: val_acc improved from 0.76882 to 0.77554, saving model to D:\\Triage\\Bayesian_Network\\NewTIM\\Recognition\\Experiment\\weights\\Revise2\\Vibration\\5fold/ABRNN\\2\\ABRNN-val_acc0.7755-17.hdf5\n",
      "2973/2973 - 2s - loss: 0.5150 - acc: 0.8100 - val_loss: 0.5616 - val_acc: 0.7755\n",
      "Epoch 18/1000\n",
      "\n",
      "Epoch 00018: val_acc did not improve from 0.77554\n",
      "2973/2973 - 2s - loss: 0.4998 - acc: 0.8066 - val_loss: 0.5472 - val_acc: 0.7742\n",
      "Epoch 19/1000\n",
      "\n",
      "Epoch 00019: val_acc did not improve from 0.77554\n",
      "2973/2973 - 2s - loss: 0.4874 - acc: 0.8133 - val_loss: 0.5606 - val_acc: 0.7715\n",
      "Epoch 20/1000\n",
      "\n",
      "Epoch 00020: val_acc did not improve from 0.77554\n",
      "2973/2973 - 2s - loss: 0.4739 - acc: 0.8251 - val_loss: 0.5443 - val_acc: 0.7634\n",
      "Epoch 21/1000\n",
      "\n",
      "Epoch 00021: val_acc did not improve from 0.77554\n",
      "2973/2973 - 2s - loss: 0.4673 - acc: 0.8308 - val_loss: 0.5810 - val_acc: 0.7702\n",
      "Epoch 22/1000\n",
      "\n",
      "Epoch 00022: val_acc improved from 0.77554 to 0.79973, saving model to D:\\Triage\\Bayesian_Network\\NewTIM\\Recognition\\Experiment\\weights\\Revise2\\Vibration\\5fold/ABRNN\\2\\ABRNN-val_acc0.7997-22.hdf5\n",
      "2973/2973 - 2s - loss: 0.4641 - acc: 0.8217 - val_loss: 0.5146 - val_acc: 0.7997\n",
      "Epoch 23/1000\n",
      "\n",
      "Epoch 00023: val_acc did not improve from 0.79973\n",
      "2973/2973 - 2s - loss: 0.4372 - acc: 0.8429 - val_loss: 0.5483 - val_acc: 0.7876\n",
      "Epoch 24/1000\n",
      "\n",
      "Epoch 00024: val_acc did not improve from 0.79973\n",
      "2973/2973 - 2s - loss: 0.4227 - acc: 0.8463 - val_loss: 0.5437 - val_acc: 0.7675\n",
      "Epoch 25/1000\n",
      "\n",
      "Epoch 00025: val_acc did not improve from 0.79973\n",
      "2973/2973 - 2s - loss: 0.4315 - acc: 0.8422 - val_loss: 0.5101 - val_acc: 0.7876\n",
      "Epoch 26/1000\n",
      "\n",
      "Epoch 00026: val_acc did not improve from 0.79973\n",
      "2973/2973 - 2s - loss: 0.4102 - acc: 0.8466 - val_loss: 0.5196 - val_acc: 0.7957\n",
      "Epoch 27/1000\n",
      "\n",
      "Epoch 00027: val_acc did not improve from 0.79973\n",
      "2973/2973 - 2s - loss: 0.4054 - acc: 0.8547 - val_loss: 0.5208 - val_acc: 0.7930\n",
      "Epoch 28/1000\n",
      "\n",
      "Epoch 00028: val_acc did not improve from 0.79973\n",
      "2973/2973 - 2s - loss: 0.3829 - acc: 0.8594 - val_loss: 0.4935 - val_acc: 0.7997\n",
      "Epoch 29/1000\n",
      "\n",
      "Epoch 00029: val_acc improved from 0.79973 to 0.81586, saving model to D:\\Triage\\Bayesian_Network\\NewTIM\\Recognition\\Experiment\\weights\\Revise2\\Vibration\\5fold/ABRNN\\2\\ABRNN-val_acc0.8159-29.hdf5\n",
      "2973/2973 - 2s - loss: 0.3822 - acc: 0.8611 - val_loss: 0.4872 - val_acc: 0.8159\n",
      "Epoch 30/1000\n",
      "\n",
      "Epoch 00030: val_acc did not improve from 0.81586\n",
      "2973/2973 - 2s - loss: 0.3605 - acc: 0.8729 - val_loss: 0.5126 - val_acc: 0.8105\n",
      "Epoch 31/1000\n",
      "\n",
      "Epoch 00031: val_acc did not improve from 0.81586\n",
      "2973/2973 - 2s - loss: 0.3515 - acc: 0.8739 - val_loss: 0.5147 - val_acc: 0.8038\n",
      "Epoch 32/1000\n",
      "\n",
      "Epoch 00032: val_acc did not improve from 0.81586\n",
      "2973/2973 - 2s - loss: 0.3500 - acc: 0.8799 - val_loss: 0.5275 - val_acc: 0.8065\n",
      "Epoch 33/1000\n",
      "\n",
      "Epoch 00033: val_acc did not improve from 0.81586\n",
      "2973/2973 - 2s - loss: 0.3399 - acc: 0.8722 - val_loss: 0.4992 - val_acc: 0.8078\n",
      "Epoch 34/1000\n",
      "\n",
      "Epoch 00034: val_acc improved from 0.81586 to 0.82258, saving model to D:\\Triage\\Bayesian_Network\\NewTIM\\Recognition\\Experiment\\weights\\Revise2\\Vibration\\5fold/ABRNN\\2\\ABRNN-val_acc0.8226-34.hdf5\n",
      "2973/2973 - 2s - loss: 0.3272 - acc: 0.8836 - val_loss: 0.4609 - val_acc: 0.8226\n",
      "Epoch 35/1000\n",
      "\n",
      "Epoch 00035: val_acc improved from 0.82258 to 0.83199, saving model to D:\\Triage\\Bayesian_Network\\NewTIM\\Recognition\\Experiment\\weights\\Revise2\\Vibration\\5fold/ABRNN\\2\\ABRNN-val_acc0.8320-35.hdf5\n",
      "2973/2973 - 2s - loss: 0.3159 - acc: 0.8920 - val_loss: 0.4713 - val_acc: 0.8320\n",
      "Epoch 36/1000\n",
      "\n",
      "Epoch 00036: val_acc did not improve from 0.83199\n",
      "2973/2973 - 2s - loss: 0.3037 - acc: 0.8924 - val_loss: 0.4803 - val_acc: 0.8239\n",
      "Epoch 37/1000\n",
      "\n",
      "Epoch 00037: val_acc did not improve from 0.83199\n",
      "2973/2973 - 2s - loss: 0.2991 - acc: 0.8897 - val_loss: 0.5077 - val_acc: 0.8172\n",
      "Epoch 38/1000\n",
      "\n",
      "Epoch 00038: val_acc did not improve from 0.83199\n",
      "2973/2973 - 2s - loss: 0.2992 - acc: 0.8991 - val_loss: 0.5048 - val_acc: 0.8172\n",
      "Epoch 39/1000\n",
      "\n",
      "Epoch 00039: val_acc did not improve from 0.83199\n",
      "2973/2973 - 2s - loss: 0.2898 - acc: 0.9004 - val_loss: 0.5983 - val_acc: 0.7863\n",
      "Epoch 00039: early stopping\n",
      "634/634 - 0s - loss: 0.5060 - acc: 0.8091\n",
      "Train on 2974 samples, validate on 743 samples\n",
      "Epoch 1/1000\n",
      "\n",
      "Epoch 00001: val_acc improved from -inf to 0.59354, saving model to D:\\Triage\\Bayesian_Network\\NewTIM\\Recognition\\Experiment\\weights\\Revise2\\Vibration\\5fold/ABRNN\\3\\ABRNN-val_acc0.5935-01.hdf5\n",
      "2974/2974 - 6s - loss: 1.1964 - acc: 0.5188 - val_loss: 0.9657 - val_acc: 0.5935\n",
      "Epoch 2/1000\n",
      "\n",
      "Epoch 00002: val_acc improved from 0.59354 to 0.65141, saving model to D:\\Triage\\Bayesian_Network\\NewTIM\\Recognition\\Experiment\\weights\\Revise2\\Vibration\\5fold/ABRNN\\3\\ABRNN-val_acc0.6514-02.hdf5\n",
      "2974/2974 - 3s - loss: 0.9251 - acc: 0.6389 - val_loss: 0.8832 - val_acc: 0.6514\n",
      "Epoch 3/1000\n",
      "\n",
      "Epoch 00003: val_acc improved from 0.65141 to 0.69448, saving model to D:\\Triage\\Bayesian_Network\\NewTIM\\Recognition\\Experiment\\weights\\Revise2\\Vibration\\5fold/ABRNN\\3\\ABRNN-val_acc0.6945-03.hdf5\n",
      "2974/2974 - 3s - loss: 0.8562 - acc: 0.6685 - val_loss: 0.8134 - val_acc: 0.6945\n",
      "Epoch 4/1000\n",
      "\n",
      "Epoch 00004: val_acc improved from 0.69448 to 0.73755, saving model to D:\\Triage\\Bayesian_Network\\NewTIM\\Recognition\\Experiment\\weights\\Revise2\\Vibration\\5fold/ABRNN\\3\\ABRNN-val_acc0.7376-04.hdf5\n",
      "2974/2974 - 2s - loss: 0.7889 - acc: 0.6980 - val_loss: 0.7114 - val_acc: 0.7376\n",
      "Epoch 5/1000\n",
      "\n",
      "Epoch 00005: val_acc did not improve from 0.73755\n",
      "2974/2974 - 2s - loss: 0.7504 - acc: 0.7091 - val_loss: 0.7203 - val_acc: 0.7187\n",
      "Epoch 6/1000\n",
      "\n",
      "Epoch 00006: val_acc improved from 0.73755 to 0.74293, saving model to D:\\Triage\\Bayesian_Network\\NewTIM\\Recognition\\Experiment\\weights\\Revise2\\Vibration\\5fold/ABRNN\\3\\ABRNN-val_acc0.7429-06.hdf5\n",
      "2974/2974 - 2s - loss: 0.7133 - acc: 0.7216 - val_loss: 0.6821 - val_acc: 0.7429\n",
      "Epoch 7/1000\n",
      "\n",
      "Epoch 00007: val_acc did not improve from 0.74293\n",
      "2974/2974 - 2s - loss: 0.6858 - acc: 0.7350 - val_loss: 0.6935 - val_acc: 0.7160\n",
      "Epoch 8/1000\n",
      "\n",
      "Epoch 00008: val_acc improved from 0.74293 to 0.75774, saving model to D:\\Triage\\Bayesian_Network\\NewTIM\\Recognition\\Experiment\\weights\\Revise2\\Vibration\\5fold/ABRNN\\3\\ABRNN-val_acc0.7577-08.hdf5\n",
      "2974/2974 - 2s - loss: 0.6448 - acc: 0.7492 - val_loss: 0.6631 - val_acc: 0.7577\n",
      "Epoch 9/1000\n",
      "\n",
      "Epoch 00009: val_acc did not improve from 0.75774\n",
      "2974/2974 - 2s - loss: 0.6191 - acc: 0.7603 - val_loss: 0.6393 - val_acc: 0.7349\n",
      "Epoch 10/1000\n",
      "\n",
      "Epoch 00010: val_acc improved from 0.75774 to 0.77120, saving model to D:\\Triage\\Bayesian_Network\\NewTIM\\Recognition\\Experiment\\weights\\Revise2\\Vibration\\5fold/ABRNN\\3\\ABRNN-val_acc0.7712-10.hdf5\n",
      "2974/2974 - 2s - loss: 0.6173 - acc: 0.7606 - val_loss: 0.6037 - val_acc: 0.7712\n",
      "Epoch 11/1000\n",
      "\n",
      "Epoch 00011: val_acc did not improve from 0.77120\n",
      "2974/2974 - 2s - loss: 0.5900 - acc: 0.7771 - val_loss: 0.6450 - val_acc: 0.7376\n",
      "Epoch 12/1000\n",
      "\n",
      "Epoch 00012: val_acc did not improve from 0.77120\n",
      "2974/2974 - 2s - loss: 0.5788 - acc: 0.7724 - val_loss: 0.6177 - val_acc: 0.7456\n",
      "Epoch 13/1000\n",
      "\n",
      "Epoch 00013: val_acc improved from 0.77120 to 0.78331, saving model to D:\\Triage\\Bayesian_Network\\NewTIM\\Recognition\\Experiment\\weights\\Revise2\\Vibration\\5fold/ABRNN\\3\\ABRNN-val_acc0.7833-13.hdf5\n",
      "2974/2974 - 2s - loss: 0.5625 - acc: 0.7828 - val_loss: 0.5957 - val_acc: 0.7833\n",
      "Epoch 14/1000\n",
      "\n",
      "Epoch 00014: val_acc did not improve from 0.78331\n",
      "2974/2974 - 3s - loss: 0.5436 - acc: 0.7946 - val_loss: 0.5709 - val_acc: 0.7752\n",
      "Epoch 15/1000\n",
      "\n",
      "Epoch 00015: val_acc did not improve from 0.78331\n",
      "2974/2974 - 2s - loss: 0.5335 - acc: 0.7976 - val_loss: 0.6049 - val_acc: 0.7429\n",
      "Epoch 16/1000\n",
      "\n",
      "Epoch 00016: val_acc improved from 0.78331 to 0.80350, saving model to D:\\Triage\\Bayesian_Network\\NewTIM\\Recognition\\Experiment\\weights\\Revise2\\Vibration\\5fold/ABRNN\\3\\ABRNN-val_acc0.8035-16.hdf5\n",
      "2974/2974 - 2s - loss: 0.5254 - acc: 0.8040 - val_loss: 0.5527 - val_acc: 0.8035\n",
      "Epoch 17/1000\n",
      "\n",
      "Epoch 00017: val_acc did not improve from 0.80350\n",
      "2974/2974 - 2s - loss: 0.4984 - acc: 0.8073 - val_loss: 0.5590 - val_acc: 0.7779\n",
      "Epoch 18/1000\n",
      "\n",
      "Epoch 00018: val_acc did not improve from 0.80350\n",
      "2974/2974 - 2s - loss: 0.4905 - acc: 0.8090 - val_loss: 0.5786 - val_acc: 0.7725\n",
      "Epoch 19/1000\n",
      "\n",
      "Epoch 00019: val_acc did not improve from 0.80350\n",
      "2974/2974 - 2s - loss: 0.4875 - acc: 0.8134 - val_loss: 0.5532 - val_acc: 0.7900\n"
     ]
    },
    {
     "name": "stdout",
     "output_type": "stream",
     "text": [
      "Epoch 20/1000\n",
      "\n",
      "Epoch 00020: val_acc did not improve from 0.80350\n",
      "2974/2974 - 2s - loss: 0.4672 - acc: 0.8241 - val_loss: 0.5570 - val_acc: 0.7900\n",
      "Epoch 21/1000\n",
      "\n",
      "Epoch 00021: val_acc did not improve from 0.80350\n",
      "2974/2974 - 2s - loss: 0.4584 - acc: 0.8262 - val_loss: 0.5486 - val_acc: 0.7927\n",
      "Epoch 22/1000\n",
      "\n",
      "Epoch 00022: val_acc did not improve from 0.80350\n",
      "2974/2974 - 2s - loss: 0.4391 - acc: 0.8322 - val_loss: 0.5572 - val_acc: 0.7873\n",
      "Epoch 23/1000\n",
      "\n",
      "Epoch 00023: val_acc improved from 0.80350 to 0.81292, saving model to D:\\Triage\\Bayesian_Network\\NewTIM\\Recognition\\Experiment\\weights\\Revise2\\Vibration\\5fold/ABRNN\\3\\ABRNN-val_acc0.8129-23.hdf5\n",
      "2974/2974 - 2s - loss: 0.4380 - acc: 0.8410 - val_loss: 0.5440 - val_acc: 0.8129\n",
      "Epoch 24/1000\n",
      "\n",
      "Epoch 00024: val_acc improved from 0.81292 to 0.81561, saving model to D:\\Triage\\Bayesian_Network\\NewTIM\\Recognition\\Experiment\\weights\\Revise2\\Vibration\\5fold/ABRNN\\3\\ABRNN-val_acc0.8156-24.hdf5\n",
      "2974/2974 - 2s - loss: 0.4245 - acc: 0.8373 - val_loss: 0.5292 - val_acc: 0.8156\n",
      "Epoch 25/1000\n",
      "\n",
      "Epoch 00025: val_acc did not improve from 0.81561\n",
      "2974/2974 - 2s - loss: 0.4139 - acc: 0.8406 - val_loss: 0.5252 - val_acc: 0.8143\n",
      "Epoch 26/1000\n",
      "\n",
      "Epoch 00026: val_acc did not improve from 0.81561\n",
      "2974/2974 - 2s - loss: 0.4046 - acc: 0.8605 - val_loss: 0.5496 - val_acc: 0.8048\n",
      "Epoch 27/1000\n",
      "\n",
      "Epoch 00027: val_acc did not improve from 0.81561\n",
      "2974/2974 - 2s - loss: 0.3852 - acc: 0.8625 - val_loss: 0.5923 - val_acc: 0.7873\n",
      "Epoch 28/1000\n",
      "\n",
      "Epoch 00028: val_acc did not improve from 0.81561\n",
      "2974/2974 - 2s - loss: 0.3814 - acc: 0.8615 - val_loss: 0.5243 - val_acc: 0.8075\n",
      "Epoch 29/1000\n",
      "\n",
      "Epoch 00029: val_acc improved from 0.81561 to 0.82100, saving model to D:\\Triage\\Bayesian_Network\\NewTIM\\Recognition\\Experiment\\weights\\Revise2\\Vibration\\5fold/ABRNN\\3\\ABRNN-val_acc0.8210-29.hdf5\n",
      "2974/2974 - 2s - loss: 0.3652 - acc: 0.8648 - val_loss: 0.5436 - val_acc: 0.8210\n",
      "Epoch 30/1000\n",
      "\n",
      "Epoch 00030: val_acc did not improve from 0.82100\n",
      "2974/2974 - 2s - loss: 0.3577 - acc: 0.8679 - val_loss: 0.5168 - val_acc: 0.8156\n",
      "Epoch 31/1000\n",
      "\n",
      "Epoch 00031: val_acc improved from 0.82100 to 0.83311, saving model to D:\\Triage\\Bayesian_Network\\NewTIM\\Recognition\\Experiment\\weights\\Revise2\\Vibration\\5fold/ABRNN\\3\\ABRNN-val_acc0.8331-31.hdf5\n",
      "2974/2974 - 2s - loss: 0.3565 - acc: 0.8685 - val_loss: 0.5080 - val_acc: 0.8331\n",
      "Epoch 32/1000\n",
      "\n",
      "Epoch 00032: val_acc did not improve from 0.83311\n",
      "2974/2974 - 2s - loss: 0.3395 - acc: 0.8746 - val_loss: 0.5746 - val_acc: 0.8062\n",
      "Epoch 33/1000\n",
      "\n",
      "Epoch 00033: val_acc did not improve from 0.83311\n",
      "2974/2974 - 2s - loss: 0.3319 - acc: 0.8756 - val_loss: 0.5527 - val_acc: 0.8062\n",
      "Epoch 34/1000\n",
      "\n",
      "Epoch 00034: val_acc did not improve from 0.83311\n",
      "2974/2974 - 2s - loss: 0.3165 - acc: 0.8853 - val_loss: 0.5340 - val_acc: 0.8116\n",
      "Epoch 35/1000\n",
      "\n",
      "Epoch 00035: val_acc did not improve from 0.83311\n",
      "2974/2974 - 2s - loss: 0.3120 - acc: 0.8900 - val_loss: 0.5399 - val_acc: 0.8170\n",
      "Epoch 36/1000\n",
      "\n",
      "Epoch 00036: val_acc did not improve from 0.83311\n",
      "2974/2974 - 2s - loss: 0.3093 - acc: 0.8857 - val_loss: 0.5274 - val_acc: 0.8237\n",
      "Epoch 00036: early stopping\n",
      "634/634 - 0s - loss: 0.4175 - acc: 0.8360\n",
      "Train on 2974 samples, validate on 743 samples\n",
      "Epoch 1/1000\n",
      "\n",
      "Epoch 00001: val_acc improved from -inf to 0.62180, saving model to D:\\Triage\\Bayesian_Network\\NewTIM\\Recognition\\Experiment\\weights\\Revise2\\Vibration\\5fold/ABRNN\\4\\ABRNN-val_acc0.6218-01.hdf5\n",
      "2974/2974 - 7s - loss: 1.1891 - acc: 0.5498 - val_loss: 0.9613 - val_acc: 0.6218\n",
      "Epoch 2/1000\n",
      "\n",
      "Epoch 00002: val_acc improved from 0.62180 to 0.67295, saving model to D:\\Triage\\Bayesian_Network\\NewTIM\\Recognition\\Experiment\\weights\\Revise2\\Vibration\\5fold/ABRNN\\4\\ABRNN-val_acc0.6729-02.hdf5\n",
      "2974/2974 - 3s - loss: 0.9150 - acc: 0.6436 - val_loss: 0.8609 - val_acc: 0.6729\n",
      "Epoch 3/1000\n",
      "\n",
      "Epoch 00003: val_acc improved from 0.67295 to 0.70525, saving model to D:\\Triage\\Bayesian_Network\\NewTIM\\Recognition\\Experiment\\weights\\Revise2\\Vibration\\5fold/ABRNN\\4\\ABRNN-val_acc0.7052-03.hdf5\n",
      "2974/2974 - 3s - loss: 0.8360 - acc: 0.6769 - val_loss: 0.8617 - val_acc: 0.7052\n",
      "Epoch 4/1000\n",
      "\n",
      "Epoch 00004: val_acc did not improve from 0.70525\n",
      "2974/2974 - 2s - loss: 0.7796 - acc: 0.7001 - val_loss: 0.7931 - val_acc: 0.6824\n",
      "Epoch 5/1000\n",
      "\n",
      "Epoch 00005: val_acc did not improve from 0.70525\n",
      "2974/2974 - 2s - loss: 0.7495 - acc: 0.7108 - val_loss: 0.7906 - val_acc: 0.6904\n",
      "Epoch 6/1000\n",
      "\n",
      "Epoch 00006: val_acc did not improve from 0.70525\n",
      "2974/2974 - 2s - loss: 0.6970 - acc: 0.7273 - val_loss: 0.7952 - val_acc: 0.6716\n",
      "Epoch 7/1000\n",
      "\n",
      "Epoch 00007: val_acc did not improve from 0.70525\n",
      "2974/2974 - 2s - loss: 0.6581 - acc: 0.7394 - val_loss: 0.7711 - val_acc: 0.6864\n",
      "Epoch 8/1000\n",
      "\n",
      "Epoch 00008: val_acc improved from 0.70525 to 0.76447, saving model to D:\\Triage\\Bayesian_Network\\NewTIM\\Recognition\\Experiment\\weights\\Revise2\\Vibration\\5fold/ABRNN\\4\\ABRNN-val_acc0.7645-08.hdf5\n",
      "2974/2974 - 2s - loss: 0.6368 - acc: 0.7445 - val_loss: 0.6573 - val_acc: 0.7645\n",
      "Epoch 9/1000\n",
      "\n",
      "Epoch 00009: val_acc did not improve from 0.76447\n",
      "2974/2974 - 2s - loss: 0.6150 - acc: 0.7670 - val_loss: 0.6554 - val_acc: 0.7618\n",
      "Epoch 10/1000\n",
      "\n",
      "Epoch 00010: val_acc did not improve from 0.76447\n",
      "2974/2974 - 2s - loss: 0.5910 - acc: 0.7673 - val_loss: 0.6662 - val_acc: 0.7550\n",
      "Epoch 11/1000\n",
      "\n",
      "Epoch 00011: val_acc did not improve from 0.76447\n",
      "2974/2974 - 2s - loss: 0.5910 - acc: 0.7663 - val_loss: 0.6824 - val_acc: 0.7429\n",
      "Epoch 12/1000\n",
      "\n",
      "Epoch 00012: val_acc improved from 0.76447 to 0.76716, saving model to D:\\Triage\\Bayesian_Network\\NewTIM\\Recognition\\Experiment\\weights\\Revise2\\Vibration\\5fold/ABRNN\\4\\ABRNN-val_acc0.7672-12.hdf5\n",
      "2974/2974 - 2s - loss: 0.5560 - acc: 0.7865 - val_loss: 0.6365 - val_acc: 0.7672\n",
      "Epoch 13/1000\n",
      "\n",
      "Epoch 00013: val_acc did not improve from 0.76716\n",
      "2974/2974 - 2s - loss: 0.5447 - acc: 0.7882 - val_loss: 0.6628 - val_acc: 0.7564\n",
      "Epoch 14/1000\n",
      "\n",
      "Epoch 00014: val_acc did not improve from 0.76716\n",
      "2974/2974 - 2s - loss: 0.5358 - acc: 0.7872 - val_loss: 0.6585 - val_acc: 0.7537\n",
      "Epoch 15/1000\n",
      "\n",
      "Epoch 00015: val_acc did not improve from 0.76716\n",
      "2974/2974 - 2s - loss: 0.5287 - acc: 0.7959 - val_loss: 0.6329 - val_acc: 0.7550\n",
      "Epoch 16/1000\n",
      "\n",
      "Epoch 00016: val_acc did not improve from 0.76716\n",
      "2974/2974 - 3s - loss: 0.5115 - acc: 0.7979 - val_loss: 0.6505 - val_acc: 0.7456\n",
      "Epoch 17/1000\n",
      "\n",
      "Epoch 00017: val_acc improved from 0.76716 to 0.77254, saving model to D:\\Triage\\Bayesian_Network\\NewTIM\\Recognition\\Experiment\\weights\\Revise2\\Vibration\\5fold/ABRNN\\4\\ABRNN-val_acc0.7725-17.hdf5\n",
      "2974/2974 - 3s - loss: 0.4996 - acc: 0.8050 - val_loss: 0.6384 - val_acc: 0.7725\n",
      "Epoch 18/1000\n",
      "\n",
      "Epoch 00018: val_acc improved from 0.77254 to 0.79542, saving model to D:\\Triage\\Bayesian_Network\\NewTIM\\Recognition\\Experiment\\weights\\Revise2\\Vibration\\5fold/ABRNN\\4\\ABRNN-val_acc0.7954-18.hdf5\n",
      "2974/2974 - 2s - loss: 0.4800 - acc: 0.8164 - val_loss: 0.6061 - val_acc: 0.7954\n",
      "Epoch 19/1000\n",
      "\n",
      "Epoch 00019: val_acc did not improve from 0.79542\n",
      "2974/2974 - 2s - loss: 0.4652 - acc: 0.8241 - val_loss: 0.6288 - val_acc: 0.7752\n",
      "Epoch 20/1000\n",
      "\n",
      "Epoch 00020: val_acc did not improve from 0.79542\n",
      "2974/2974 - 2s - loss: 0.4655 - acc: 0.8184 - val_loss: 0.6323 - val_acc: 0.7847\n",
      "Epoch 21/1000\n",
      "\n",
      "Epoch 00021: val_acc did not improve from 0.79542\n",
      "2974/2974 - 2s - loss: 0.4591 - acc: 0.8235 - val_loss: 0.6176 - val_acc: 0.7725\n",
      "Epoch 22/1000\n",
      "\n",
      "Epoch 00022: val_acc did not improve from 0.79542\n",
      "2974/2974 - 2s - loss: 0.4332 - acc: 0.8379 - val_loss: 0.6332 - val_acc: 0.7766\n",
      "Epoch 23/1000\n",
      "\n",
      "Epoch 00023: val_acc did not improve from 0.79542\n",
      "2974/2974 - 2s - loss: 0.4343 - acc: 0.8332 - val_loss: 0.5977 - val_acc: 0.7927\n",
      "Epoch 24/1000\n",
      "\n",
      "Epoch 00024: val_acc improved from 0.79542 to 0.80215, saving model to D:\\Triage\\Bayesian_Network\\NewTIM\\Recognition\\Experiment\\weights\\Revise2\\Vibration\\5fold/ABRNN\\4\\ABRNN-val_acc0.8022-24.hdf5\n",
      "2974/2974 - 3s - loss: 0.4150 - acc: 0.8430 - val_loss: 0.5753 - val_acc: 0.8022\n",
      "Epoch 25/1000\n",
      "\n",
      "Epoch 00025: val_acc improved from 0.80215 to 0.80754, saving model to D:\\Triage\\Bayesian_Network\\NewTIM\\Recognition\\Experiment\\weights\\Revise2\\Vibration\\5fold/ABRNN\\4\\ABRNN-val_acc0.8075-25.hdf5\n",
      "2974/2974 - 3s - loss: 0.4081 - acc: 0.8457 - val_loss: 0.5844 - val_acc: 0.8075\n",
      "Epoch 26/1000\n",
      "\n",
      "Epoch 00026: val_acc did not improve from 0.80754\n",
      "2974/2974 - 2s - loss: 0.4008 - acc: 0.8453 - val_loss: 0.6373 - val_acc: 0.7860\n"
     ]
    },
    {
     "name": "stdout",
     "output_type": "stream",
     "text": [
      "Epoch 27/1000\n",
      "\n",
      "Epoch 00027: val_acc did not improve from 0.80754\n",
      "2974/2974 - 2s - loss: 0.4021 - acc: 0.8423 - val_loss: 0.5757 - val_acc: 0.7954\n",
      "Epoch 28/1000\n",
      "\n",
      "Epoch 00028: val_acc did not improve from 0.80754\n",
      "2974/2974 - 2s - loss: 0.3768 - acc: 0.8547 - val_loss: 0.5958 - val_acc: 0.8035\n",
      "Epoch 29/1000\n",
      "\n",
      "Epoch 00029: val_acc did not improve from 0.80754\n",
      "2974/2974 - 2s - loss: 0.3693 - acc: 0.8625 - val_loss: 0.6870 - val_acc: 0.7497\n",
      "Epoch 00029: early stopping\n",
      "634/634 - 0s - loss: 0.7011 - acc: 0.7413\n",
      "Train on 2974 samples, validate on 743 samples\n",
      "Epoch 1/1000\n",
      "\n",
      "Epoch 00001: val_acc improved from -inf to 0.60027, saving model to D:\\Triage\\Bayesian_Network\\NewTIM\\Recognition\\Experiment\\weights\\Revise2\\Vibration\\5fold/ABRNN\\5\\ABRNN-val_acc0.6003-01.hdf5\n",
      "2974/2974 - 7s - loss: 1.1734 - acc: 0.5504 - val_loss: 1.0053 - val_acc: 0.6003\n",
      "Epoch 2/1000\n",
      "\n",
      "Epoch 00002: val_acc improved from 0.60027 to 0.64065, saving model to D:\\Triage\\Bayesian_Network\\NewTIM\\Recognition\\Experiment\\weights\\Revise2\\Vibration\\5fold/ABRNN\\5\\ABRNN-val_acc0.6406-02.hdf5\n",
      "2974/2974 - 3s - loss: 0.9093 - acc: 0.6372 - val_loss: 0.9045 - val_acc: 0.6406\n",
      "Epoch 3/1000\n",
      "\n",
      "Epoch 00003: val_acc did not improve from 0.64065\n",
      "2974/2974 - 2s - loss: 0.8386 - acc: 0.6688 - val_loss: 1.0085 - val_acc: 0.5976\n",
      "Epoch 4/1000\n",
      "\n",
      "Epoch 00004: val_acc improved from 0.64065 to 0.68371, saving model to D:\\Triage\\Bayesian_Network\\NewTIM\\Recognition\\Experiment\\weights\\Revise2\\Vibration\\5fold/ABRNN\\5\\ABRNN-val_acc0.6837-04.hdf5\n",
      "2974/2974 - 3s - loss: 0.7790 - acc: 0.7021 - val_loss: 0.8326 - val_acc: 0.6837\n",
      "Epoch 5/1000\n",
      "\n",
      "Epoch 00005: val_acc improved from 0.68371 to 0.69448, saving model to D:\\Triage\\Bayesian_Network\\NewTIM\\Recognition\\Experiment\\weights\\Revise2\\Vibration\\5fold/ABRNN\\5\\ABRNN-val_acc0.6945-05.hdf5\n",
      "2974/2974 - 3s - loss: 0.7181 - acc: 0.7303 - val_loss: 0.7789 - val_acc: 0.6945\n",
      "Epoch 6/1000\n",
      "\n",
      "Epoch 00006: val_acc did not improve from 0.69448\n",
      "2974/2974 - 2s - loss: 0.6817 - acc: 0.7414 - val_loss: 0.8072 - val_acc: 0.6918\n",
      "Epoch 7/1000\n",
      "\n",
      "Epoch 00007: val_acc improved from 0.69448 to 0.72140, saving model to D:\\Triage\\Bayesian_Network\\NewTIM\\Recognition\\Experiment\\weights\\Revise2\\Vibration\\5fold/ABRNN\\5\\ABRNN-val_acc0.7214-07.hdf5\n",
      "2974/2974 - 3s - loss: 0.6520 - acc: 0.7461 - val_loss: 0.7330 - val_acc: 0.7214\n",
      "Epoch 8/1000\n",
      "\n",
      "Epoch 00008: val_acc did not improve from 0.72140\n",
      "2974/2974 - 2s - loss: 0.6306 - acc: 0.7518 - val_loss: 0.7644 - val_acc: 0.6985\n",
      "Epoch 9/1000\n",
      "\n",
      "Epoch 00009: val_acc improved from 0.72140 to 0.73486, saving model to D:\\Triage\\Bayesian_Network\\NewTIM\\Recognition\\Experiment\\weights\\Revise2\\Vibration\\5fold/ABRNN\\5\\ABRNN-val_acc0.7349-09.hdf5\n",
      "2974/2974 - 3s - loss: 0.6074 - acc: 0.7673 - val_loss: 0.7203 - val_acc: 0.7349\n",
      "Epoch 10/1000\n",
      "\n",
      "Epoch 00010: val_acc did not improve from 0.73486\n",
      "2974/2974 - 2s - loss: 0.6088 - acc: 0.7673 - val_loss: 0.7415 - val_acc: 0.7039\n",
      "Epoch 11/1000\n",
      "\n",
      "Epoch 00011: val_acc did not improve from 0.73486\n",
      "2974/2974 - 3s - loss: 0.5769 - acc: 0.7791 - val_loss: 0.7145 - val_acc: 0.7322\n",
      "Epoch 12/1000\n",
      "\n",
      "Epoch 00012: val_acc did not improve from 0.73486\n",
      "2974/2974 - 2s - loss: 0.5717 - acc: 0.7737 - val_loss: 0.7302 - val_acc: 0.7281\n",
      "Epoch 13/1000\n",
      "\n",
      "Epoch 00013: val_acc improved from 0.73486 to 0.74428, saving model to D:\\Triage\\Bayesian_Network\\NewTIM\\Recognition\\Experiment\\weights\\Revise2\\Vibration\\5fold/ABRNN\\5\\ABRNN-val_acc0.7443-13.hdf5\n",
      "2974/2974 - 3s - loss: 0.5534 - acc: 0.7865 - val_loss: 0.6972 - val_acc: 0.7443\n",
      "Epoch 14/1000\n",
      "\n",
      "Epoch 00014: val_acc did not improve from 0.74428\n",
      "2974/2974 - 3s - loss: 0.5349 - acc: 0.7966 - val_loss: 0.6837 - val_acc: 0.7214\n",
      "Epoch 15/1000\n",
      "\n",
      "Epoch 00015: val_acc did not improve from 0.74428\n",
      "2974/2974 - 2s - loss: 0.5218 - acc: 0.7989 - val_loss: 0.7067 - val_acc: 0.7429\n",
      "Epoch 16/1000\n",
      "\n",
      "Epoch 00016: val_acc improved from 0.74428 to 0.75774, saving model to D:\\Triage\\Bayesian_Network\\NewTIM\\Recognition\\Experiment\\weights\\Revise2\\Vibration\\5fold/ABRNN\\5\\ABRNN-val_acc0.7577-16.hdf5\n",
      "2974/2974 - 3s - loss: 0.5112 - acc: 0.8023 - val_loss: 0.6668 - val_acc: 0.7577\n",
      "Epoch 17/1000\n",
      "\n",
      "Epoch 00017: val_acc did not improve from 0.75774\n",
      "2974/2974 - 3s - loss: 0.4982 - acc: 0.8056 - val_loss: 0.6996 - val_acc: 0.7349\n",
      "Epoch 18/1000\n",
      "\n",
      "Epoch 00018: val_acc improved from 0.75774 to 0.77120, saving model to D:\\Triage\\Bayesian_Network\\NewTIM\\Recognition\\Experiment\\weights\\Revise2\\Vibration\\5fold/ABRNN\\5\\ABRNN-val_acc0.7712-18.hdf5\n",
      "2974/2974 - 3s - loss: 0.4829 - acc: 0.8157 - val_loss: 0.6559 - val_acc: 0.7712\n",
      "Epoch 19/1000\n",
      "\n",
      "Epoch 00019: val_acc did not improve from 0.77120\n",
      "2974/2974 - 2s - loss: 0.4662 - acc: 0.8208 - val_loss: 0.6714 - val_acc: 0.7591\n",
      "Epoch 20/1000\n",
      "\n",
      "Epoch 00020: val_acc improved from 0.77120 to 0.77658, saving model to D:\\Triage\\Bayesian_Network\\NewTIM\\Recognition\\Experiment\\weights\\Revise2\\Vibration\\5fold/ABRNN\\5\\ABRNN-val_acc0.7766-20.hdf5\n",
      "2974/2974 - 3s - loss: 0.4667 - acc: 0.8161 - val_loss: 0.6403 - val_acc: 0.7766\n",
      "Epoch 21/1000\n",
      "\n",
      "Epoch 00021: val_acc did not improve from 0.77658\n",
      "2974/2974 - 3s - loss: 0.4405 - acc: 0.8282 - val_loss: 0.6439 - val_acc: 0.7672\n",
      "Epoch 22/1000\n",
      "\n",
      "Epoch 00022: val_acc improved from 0.77658 to 0.78062, saving model to D:\\Triage\\Bayesian_Network\\NewTIM\\Recognition\\Experiment\\weights\\Revise2\\Vibration\\5fold/ABRNN\\5\\ABRNN-val_acc0.7806-22.hdf5\n",
      "2974/2974 - 3s - loss: 0.4359 - acc: 0.8342 - val_loss: 0.6259 - val_acc: 0.7806\n",
      "Epoch 23/1000\n",
      "\n",
      "Epoch 00023: val_acc did not improve from 0.78062\n",
      "2974/2974 - 3s - loss: 0.4173 - acc: 0.8426 - val_loss: 0.6473 - val_acc: 0.7766\n",
      "Epoch 24/1000\n",
      "\n",
      "Epoch 00024: val_acc did not improve from 0.78062\n",
      "2974/2974 - 3s - loss: 0.4020 - acc: 0.8531 - val_loss: 0.6377 - val_acc: 0.7739\n",
      "Epoch 25/1000\n",
      "\n",
      "Epoch 00025: val_acc improved from 0.78062 to 0.78466, saving model to D:\\Triage\\Bayesian_Network\\NewTIM\\Recognition\\Experiment\\weights\\Revise2\\Vibration\\5fold/ABRNN\\5\\ABRNN-val_acc0.7847-25.hdf5\n",
      "2974/2974 - 3s - loss: 0.3972 - acc: 0.8517 - val_loss: 0.6424 - val_acc: 0.7847\n",
      "Epoch 26/1000\n",
      "\n",
      "Epoch 00026: val_acc improved from 0.78466 to 0.78869, saving model to D:\\Triage\\Bayesian_Network\\NewTIM\\Recognition\\Experiment\\weights\\Revise2\\Vibration\\5fold/ABRNN\\5\\ABRNN-val_acc0.7887-26.hdf5\n",
      "2974/2974 - 3s - loss: 0.3854 - acc: 0.8537 - val_loss: 0.6207 - val_acc: 0.7887\n",
      "Epoch 27/1000\n",
      "\n",
      "Epoch 00027: val_acc improved from 0.78869 to 0.79677, saving model to D:\\Triage\\Bayesian_Network\\NewTIM\\Recognition\\Experiment\\weights\\Revise2\\Vibration\\5fold/ABRNN\\5\\ABRNN-val_acc0.7968-27.hdf5\n",
      "2974/2974 - 3s - loss: 0.3829 - acc: 0.8601 - val_loss: 0.6238 - val_acc: 0.7968\n",
      "Epoch 28/1000\n",
      "\n",
      "Epoch 00028: val_acc did not improve from 0.79677\n",
      "2974/2974 - 2s - loss: 0.3777 - acc: 0.8611 - val_loss: 0.6212 - val_acc: 0.7900\n",
      "Epoch 29/1000\n",
      "\n",
      "Epoch 00029: val_acc did not improve from 0.79677\n",
      "2974/2974 - 2s - loss: 0.3568 - acc: 0.8753 - val_loss: 0.6331 - val_acc: 0.7820\n",
      "Epoch 30/1000\n",
      "\n",
      "Epoch 00030: val_acc improved from 0.79677 to 0.80619, saving model to D:\\Triage\\Bayesian_Network\\NewTIM\\Recognition\\Experiment\\weights\\Revise2\\Vibration\\5fold/ABRNN\\5\\ABRNN-val_acc0.8062-30.hdf5\n",
      "2974/2974 - 3s - loss: 0.3450 - acc: 0.8732 - val_loss: 0.6122 - val_acc: 0.8062\n",
      "Epoch 31/1000\n",
      "\n",
      "Epoch 00031: val_acc did not improve from 0.80619\n",
      "2974/2974 - 2s - loss: 0.3381 - acc: 0.8719 - val_loss: 0.6310 - val_acc: 0.7954\n",
      "Epoch 32/1000\n",
      "\n",
      "Epoch 00032: val_acc did not improve from 0.80619\n",
      "2974/2974 - 2s - loss: 0.3267 - acc: 0.8823 - val_loss: 0.6313 - val_acc: 0.7873\n",
      "Epoch 33/1000\n",
      "\n",
      "Epoch 00033: val_acc did not improve from 0.80619\n",
      "2974/2974 - 2s - loss: 0.3117 - acc: 0.8894 - val_loss: 0.6491 - val_acc: 0.7847\n",
      "Epoch 34/1000\n",
      "\n",
      "Epoch 00034: val_acc did not improve from 0.80619\n",
      "2974/2974 - 3s - loss: 0.2984 - acc: 0.8937 - val_loss: 0.6583 - val_acc: 0.7860\n",
      "Epoch 35/1000\n",
      "\n",
      "Epoch 00035: val_acc did not improve from 0.80619\n",
      "2974/2974 - 3s - loss: 0.3137 - acc: 0.8847 - val_loss: 0.6707 - val_acc: 0.7927\n",
      "Epoch 00035: early stopping\n",
      "634/634 - 0s - loss: 0.3313 - acc: 0.8754\n"
     ]
    }
   ],
   "source": [
    "results = []\n",
    "NAME='ABRNN'\n",
    "k = 0#新建文件夹命名\n",
    "for train, test in kfold.split(X, Y):\n",
    "    model = ABRNN()\n",
    "    k+=1\n",
    "    path = os.path.join(r'D:\\Triage\\Bayesian_Network\\NewTIM\\Recognition\\Experiment\\weights\\Revise2\\Vibration\\5fold'+'/'+NAME, str(k))\n",
    "    if not os.path.exists(path):\n",
    "         os.makedirs(path)\n",
    "    filepath = os.path.join(path,NAME+'-val_acc{val_acc:.4f}-{epoch:02d}.hdf5')\n",
    "    checkpoint  = ModelCheckpoint(filepath=filepath,verbose=1, save_best_only=True, monitor='val_acc', mode='max')\n",
    "    earlystopper = EarlyStopping( monitor='val_loss',patience=5,verbose=2, mode = 'min')\n",
    "\n",
    "    history=model.fit(X[train], Y[train], \n",
    "                      batch_size=10, epochs=1000,\n",
    "                      validation_data=(X[test], Y[test]), \n",
    "                      verbose=2,callbacks=[earlystopper,checkpoint])\n",
    "    scores = model.evaluate(x_test, y_test, verbose=2)\n",
    "    results.append(scores)"
   ]
  },
  {
   "cell_type": "code",
   "execution_count": null,
   "metadata": {},
   "outputs": [],
   "source": []
  },
  {
   "cell_type": "markdown",
   "metadata": {},
   "source": [
    "# 4.模型测试"
   ]
  },
  {
   "cell_type": "code",
   "execution_count": 45,
   "metadata": {},
   "outputs": [],
   "source": [
    "# np.array(x_train).shape, np.array(y_train).shape, np.array(x_test).shape, np.array(y_test).shape"
   ]
  },
  {
   "cell_type": "code",
   "execution_count": 16,
   "metadata": {},
   "outputs": [],
   "source": [
    "# saved_weight = r\"./weights - 副本/Attention+GRU_coif8-val_acc0.8763-280.hdf5\"\n",
    "# saved_weight = r\"./weights - 副本/GRU_coif8-val_acc0.7858-719.hdf5\"\n",
    "saved_weight = r\"./weights - 副本/LSTM_coif8-val_acc0.7616-284.hdf5\"\n",
    "# saved_weight = r\"./weights - 副本/SimpleRNN_coif8-val_acc0.7384-961.hdf5\"\n"
   ]
  },
  {
   "cell_type": "code",
   "execution_count": 20,
   "metadata": {},
   "outputs": [],
   "source": [
    "# saved_weight = r\"./weights/Attention+LSTM_coif8-val_acc0.8746-768.hdf5\"\n",
    "saved_weight = r\"D:\\Triage\\Bayesian_Network\\NewTIM\\Recognition\\Experiment\\weights\\Revise2\\Vibration\\5fold\\ABRNN\\3\\ABRNN-val_acc0.8331-31.hdf5\"\n"
   ]
  },
  {
   "cell_type": "code",
   "execution_count": 22,
   "metadata": {},
   "outputs": [
    {
     "name": "stdout",
     "output_type": "stream",
     "text": [
      "634/634 - 0s - loss: 0.4260 - acc: 0.8328\n",
      "\n",
      "test loss 0.4259954511014633\n",
      "accuracy 0.8328076\n"
     ]
    }
   ],
   "source": [
    "# 评估模型,不输出预测结果\n",
    "# model = Bi_GRU()\n",
    "model.load_weights(saved_weight)\n",
    "loss,accuracy = model.evaluate(x_test, y_test, verbose=2, batch_size=8)\n",
    "print('\\ntest loss',loss)\n",
    "print('accuracy',accuracy)"
   ]
  },
  {
   "cell_type": "code",
   "execution_count": 24,
   "metadata": {},
   "outputs": [
    {
     "name": "stdout",
     "output_type": "stream",
     "text": [
      "              precision    recall  f1-score   support\n",
      "\n",
      "           0     0.9315    0.9577    0.9444       213\n",
      "           1     0.9545    0.6000    0.7368       210\n",
      "           2     0.0000    0.0000    0.0000         0\n",
      "           3     0.0000    0.0000    0.0000         0\n",
      "           4     0.7306    0.9384    0.8216       211\n",
      "           5     0.0000    0.0000    0.0000         0\n",
      "\n",
      "    accuracy                         0.8328       634\n",
      "   macro avg     0.4361    0.4160    0.4171       634\n",
      "weighted avg     0.8723    0.8328    0.8348       634\n",
      "\n",
      "每条耗时: 1.5607 ms\n",
      "总耗时为: 0.0165 min\n"
     ]
    }
   ],
   "source": [
    "import time\n",
    "start = time.perf_counter()\n",
    "\n",
    "y_probs = model.predict(x_test)\n",
    "y_pred= np.argmax(y_probs,axis=1)\n",
    "end = time.perf_counter()\n",
    "\n",
    "Y_test, Y_pred = y_test, y_pred\n",
    "Report = metrics.classification_report(Y_test, Y_pred, digits=4, output_dict=True)\n",
    "from sklearn.metrics import classification_report\n",
    "print(classification_report(Y_test, Y_pred, digits=4))\n",
    "print(\"每条耗时: %.4f ms\" % ((end - start)*1000/len(y_pred)))   \n",
    "print(\"总耗时为: %.4f min\" % ((end - start)/60)) "
   ]
  },
  {
   "cell_type": "code",
   "execution_count": 26,
   "metadata": {},
   "outputs": [],
   "source": [
    "df = pd.DataFrame([Report['weighted avg']])\n",
    "df.insert(loc=0, column='accuracy', value=Report['accuracy'])"
   ]
  },
  {
   "cell_type": "code",
   "execution_count": 27,
   "metadata": {},
   "outputs": [
    {
     "data": {
      "text/html": [
       "<div>\n",
       "<style scoped>\n",
       "    .dataframe tbody tr th:only-of-type {\n",
       "        vertical-align: middle;\n",
       "    }\n",
       "\n",
       "    .dataframe tbody tr th {\n",
       "        vertical-align: top;\n",
       "    }\n",
       "\n",
       "    .dataframe thead th {\n",
       "        text-align: right;\n",
       "    }\n",
       "</style>\n",
       "<table border=\"1\" class=\"dataframe\">\n",
       "  <thead>\n",
       "    <tr style=\"text-align: right;\">\n",
       "      <th></th>\n",
       "      <th>accuracy</th>\n",
       "      <th>precision</th>\n",
       "      <th>recall</th>\n",
       "      <th>f1-score</th>\n",
       "      <th>support</th>\n",
       "    </tr>\n",
       "  </thead>\n",
       "  <tbody>\n",
       "    <tr>\n",
       "      <th>0</th>\n",
       "      <td>0.832808</td>\n",
       "      <td>0.872284</td>\n",
       "      <td>0.832808</td>\n",
       "      <td>0.834789</td>\n",
       "      <td>634</td>\n",
       "    </tr>\n",
       "  </tbody>\n",
       "</table>\n",
       "</div>"
      ],
      "text/plain": [
       "   accuracy  precision    recall  f1-score  support\n",
       "0  0.832808   0.872284  0.832808  0.834789      634"
      ]
     },
     "execution_count": 27,
     "metadata": {},
     "output_type": "execute_result"
    }
   ],
   "source": [
    "df"
   ]
  },
  {
   "cell_type": "code",
   "execution_count": 57,
   "metadata": {},
   "outputs": [
    {
     "name": "stdout",
     "output_type": "stream",
     "text": [
      "[0.9096891202022113, 0.9017693767819407, 0.8359621451104101, 0.8602288115584585]\n",
      "[0.9250166684910786, 0.8976155722251032, 0.8785488958990536, 0.8856667227429068]\n",
      "[0.8951178735981052, 0.872283700287494, 0.832807570977918, 0.8347889682450559]\n",
      "[0.8976853187911115, 0.8847619971496941, 0.8123028391167192, 0.8395055556115999]\n",
      "[0.909308481525341, 0.8871983361705367, 0.8517350157728707, 0.8595418801500287]\n"
     ]
    }
   ],
   "source": [
    "import time\n",
    "from sklearn.metrics import classification_report\n",
    "path_weight0 = r'D:\\Triage\\Bayesian_Network\\NewTIM\\Recognition\\Experiment\\weights\\Revise2\\Vibration\\5fold'+'/'+NAME\n",
    "List = os.listdir(path_weight0)\n",
    "Results = []\n",
    "for ind, i in enumerate(List):\n",
    "    df = pd.DataFrame()\n",
    "    path_weight1 = glob.glob(os.path.join(path_weight0, i) + '\\*.hdf5')\n",
    "    model.load_weights(path_weight1[0])\n",
    "    y_probs = model.predict(x_test)\n",
    "    y_pred= np.argmax(y_probs,axis=1)\n",
    "    Report = metrics.classification_report(Y_test, y_pred, digits=4, output_dict=True)\n",
    "    df = pd.DataFrame([Report['weighted avg']])\n",
    "    df.insert(loc=0, column='accuracy', value=Report['accuracy'])\n",
    "    \n",
    "    result = SenSpec(y_test, y_pred)\n",
    "    Results.append(result)\n",
    "    print(result)"
   ]
  },
  {
   "cell_type": "code",
   "execution_count": 58,
   "metadata": {},
   "outputs": [],
   "source": [
    "import numpy as np\n",
    "from sklearn.metrics import confusion_matrix, cohen_kappa_score, matthews_corrcoef\n",
    "\n",
    "def SenSpec(Y_test, y_predict):\n",
    "    matrix4 = confusion_matrix(Y_test,y_predict)\n",
    "    accuracy = np.diag(matrix4).sum()/matrix4.sum()\n",
    "#     print('ACC_TRUE：%.2f'%(accuracy*100))\n",
    "    FP4, FN4, TP4, TN4 = TFPN(matrix4)\n",
    "    VALUE4 = Metrics(FP4, FN4, TP4, TN4)  # ACC, TPR,TNR,G_Mean,F1_Score,PPV,NPV\n",
    "    n_list = matrix4.sum(axis=1)\n",
    "    value=[]\n",
    "    for index1, i in enumerate(VALUE4):\n",
    "        value.append(CI(i, n_list))\n",
    "    return value\n",
    "        \n",
    "# 2-TP/TN/FP/FN的计算\n",
    "def TFPN(matrix):\n",
    "    FP = matrix.sum(axis=0) - np.diag(matrix)  \n",
    "    FN = matrix.sum(axis=1) - np.diag(matrix)\n",
    "    TP = np.diag(matrix)\n",
    "    TN = matrix.sum() - (FP + FN + TP)\n",
    "    return FP, FN, TP, TN\n",
    "# 3-其他的性能参数的计算\n",
    "def Metrics(FP, FN, TP, TN):\n",
    "    ACC = (TP+TN)/(TP+TN+FP+FN) # accuracy of each class\n",
    "    Recall = TP/(TP+FN) # Sensitivity/ hit rate/ recall/ true positive rate\n",
    "    TNR = TN/(TN+FP) # Specificity/ true negative rate\n",
    "    Precision = TP/(TP+FP) # Precision/ positive predictive value\n",
    "    NPV = TN/(TN+FN) # Negative predictive value\n",
    "    FPR = FP/(FP+TN) # Fall out/ false positive rate\n",
    "    FNR = FN/(TP+FN) # False negative rate\n",
    "    FDR = FP/(TP+FP) # False discovery rate\n",
    "    F1_Score = 2*(Precision*Recall)/(Precision+Recall)\n",
    "    return ACC, Precision, Recall, F1_Score\n",
    "def CI(acc_list, n_list):\n",
    "    acc_list = np.array(acc_list)\n",
    "    n_list = np.array(n_list)    \n",
    "    valid_acc_list = acc_list[~np.isnan(acc_list)]\n",
    "    valid_n_list = n_list[~np.isnan(acc_list)]\n",
    "    avg_acc = np.average(valid_acc_list, weights=valid_n_list)\n",
    "    return avg_acc"
   ]
  },
  {
   "cell_type": "code",
   "execution_count": 59,
   "metadata": {},
   "outputs": [
    {
     "data": {
      "text/html": [
       "<div>\n",
       "<style scoped>\n",
       "    .dataframe tbody tr th:only-of-type {\n",
       "        vertical-align: middle;\n",
       "    }\n",
       "\n",
       "    .dataframe tbody tr th {\n",
       "        vertical-align: top;\n",
       "    }\n",
       "\n",
       "    .dataframe thead th {\n",
       "        text-align: right;\n",
       "    }\n",
       "</style>\n",
       "<table border=\"1\" class=\"dataframe\">\n",
       "  <thead>\n",
       "    <tr style=\"text-align: right;\">\n",
       "      <th></th>\n",
       "      <th>Accuracy</th>\n",
       "      <th>Precision</th>\n",
       "      <th>Recall</th>\n",
       "      <th>F1-Score</th>\n",
       "    </tr>\n",
       "  </thead>\n",
       "  <tbody>\n",
       "    <tr>\n",
       "      <th>0</th>\n",
       "      <td>0.909689</td>\n",
       "      <td>0.901769</td>\n",
       "      <td>0.835962</td>\n",
       "      <td>0.860229</td>\n",
       "    </tr>\n",
       "    <tr>\n",
       "      <th>1</th>\n",
       "      <td>0.925017</td>\n",
       "      <td>0.897616</td>\n",
       "      <td>0.878549</td>\n",
       "      <td>0.885667</td>\n",
       "    </tr>\n",
       "    <tr>\n",
       "      <th>2</th>\n",
       "      <td>0.895118</td>\n",
       "      <td>0.872284</td>\n",
       "      <td>0.832808</td>\n",
       "      <td>0.834789</td>\n",
       "    </tr>\n",
       "    <tr>\n",
       "      <th>3</th>\n",
       "      <td>0.897685</td>\n",
       "      <td>0.884762</td>\n",
       "      <td>0.812303</td>\n",
       "      <td>0.839506</td>\n",
       "    </tr>\n",
       "    <tr>\n",
       "      <th>4</th>\n",
       "      <td>0.909308</td>\n",
       "      <td>0.887198</td>\n",
       "      <td>0.851735</td>\n",
       "      <td>0.859542</td>\n",
       "    </tr>\n",
       "  </tbody>\n",
       "</table>\n",
       "</div>"
      ],
      "text/plain": [
       "   Accuracy  Precision    Recall  F1-Score\n",
       "0  0.909689   0.901769  0.835962  0.860229\n",
       "1  0.925017   0.897616  0.878549  0.885667\n",
       "2  0.895118   0.872284  0.832808  0.834789\n",
       "3  0.897685   0.884762  0.812303  0.839506\n",
       "4  0.909308   0.887198  0.851735  0.859542"
      ]
     },
     "execution_count": 59,
     "metadata": {},
     "output_type": "execute_result"
    }
   ],
   "source": [
    "# result = SenSpec(Y_test, Y_pred)\n",
    "df2 = pd.DataFrame(Results, columns=['Accuracy', 'Precision', 'Recall', 'F1-Score'])\n",
    "df2"
   ]
  },
  {
   "cell_type": "code",
   "execution_count": null,
   "metadata": {},
   "outputs": [],
   "source": []
  },
  {
   "cell_type": "code",
   "execution_count": null,
   "metadata": {},
   "outputs": [],
   "source": []
  },
  {
   "cell_type": "code",
   "execution_count": null,
   "metadata": {},
   "outputs": [],
   "source": []
  },
  {
   "cell_type": "code",
   "execution_count": null,
   "metadata": {},
   "outputs": [],
   "source": []
  },
  {
   "cell_type": "code",
   "execution_count": null,
   "metadata": {},
   "outputs": [],
   "source": []
  },
  {
   "cell_type": "code",
   "execution_count": null,
   "metadata": {},
   "outputs": [],
   "source": []
  },
  {
   "cell_type": "code",
   "execution_count": null,
   "metadata": {},
   "outputs": [],
   "source": []
  },
  {
   "cell_type": "code",
   "execution_count": null,
   "metadata": {},
   "outputs": [],
   "source": []
  },
  {
   "cell_type": "code",
   "execution_count": null,
   "metadata": {},
   "outputs": [],
   "source": []
  },
  {
   "cell_type": "code",
   "execution_count": null,
   "metadata": {},
   "outputs": [],
   "source": []
  },
  {
   "cell_type": "code",
   "execution_count": null,
   "metadata": {},
   "outputs": [],
   "source": []
  },
  {
   "cell_type": "code",
   "execution_count": 57,
   "metadata": {},
   "outputs": [
    {
     "name": "stdout",
     "output_type": "stream",
     "text": [
      "每条耗时: 0.2633 ms\n",
      "总耗时为: 0.0049 min\n"
     ]
    }
   ],
   "source": [
    "import time\n",
    "start = time.perf_counter()\n",
    "\n",
    "y_probs = model.predict(x_test)\n",
    "y_pred= np.argmax(y_probs,axis=1)\n",
    "end = time.perf_counter()\n",
    "\n",
    "y_true = y_test\n",
    "\n",
    "print(\"每条耗时: %.4f ms\" % ((end - start)*1000/len(y_pred)))   \n",
    "print(\"总耗时为: %.4f min\" % ((end - start)/60)) "
   ]
  },
  {
   "cell_type": "code",
   "execution_count": 58,
   "metadata": {},
   "outputs": [],
   "source": [
    "from sklearn.metrics import confusion_matrix\n",
    "\n",
    "labels_name = (\"Gravel\", \"M1\", \"M2\", \"M3\", \"Sand\", \"Regolith\", \"SilicaRock\")\n",
    "matrix = confusion_matrix(y_true, y_pred)"
   ]
  },
  {
   "cell_type": "code",
   "execution_count": 59,
   "metadata": {},
   "outputs": [],
   "source": [
    "def plot_confusion_matrix(matrix, labels_name, title, cmap=plt.cm.Blues):#cmap='Blues'\n",
    "    matrix = matrix.astype('float') / matrix.sum(axis=1)[:, np.newaxis]    # 归一化\n",
    "    plt.imshow(matrix, interpolation='nearest',cmap=cmap)    # 在特定的窗口上显示图像\n",
    "    plt.title(NAME, fontdict={'family': 'Times New Roman', 'size': 20, 'weight'  : \"bold\"})    # 图像标题\n",
    "#     plt.colorbar()\n",
    "    \n",
    "    \n",
    "    bwith = 3 #边框宽度设置为2\n",
    "    ax = plt.gca()#获取边框\n",
    "#     ax.spines['top'].set_color('red')  # 设置上‘脊梁’为红色\n",
    "#     ax.spines['right'].set_color('none')  # 设置上‘脊梁’为无色\n",
    "    ax.spines['bottom'].set_linewidth(bwith)\n",
    "    ax.spines['left'].set_linewidth(bwith)\n",
    "    ax.spines['top'].set_linewidth(bwith)\n",
    "    ax.spines['right'].set_linewidth(bwith)\n",
    "    \n",
    "    num_local = np.array(range(len(labels_name)))    \n",
    "    plt.xticks(num_local, labels_name, rotation=0)    # 将标签印在x轴坐标上\n",
    "    plt.yticks(num_local, labels_name)    # 将标签印在y轴坐标上\n",
    "    \n",
    "    plt.tick_params(labelsize=10, width=1)\n",
    "    \n",
    "    plt.rcParams['font.sans-serif']=['Times New Roman'] # ['SimSun']宋体；['SimHei']黑体，有很多自己都可以设置\n",
    "    plt.rcParams['axes.unicode_minus'] = False\n",
    "    \n",
    "    plt.ylabel('True label', fontdict={'family': 'Times New Roman','weight' : \"bold\", 'size': 18})    \n",
    "    plt.xlabel('Predicted label', fontdict={'family': 'Times New Roman', 'weight'  : \"bold\", 'size': 18})\n",
    "    plt.tight_layout()"
   ]
  },
  {
   "cell_type": "code",
   "execution_count": 60,
   "metadata": {
    "scrolled": true
   },
   "outputs": [
    {
     "data": {
      "image/png": "[encoded data removed]",
      "text/plain": [
       "<Figure size 640x480 with 1 Axes>"
      ]
     },
     "metadata": {},
     "output_type": "display_data"
    }
   ],
   "source": [
    "for i in range(len(matrix)):\n",
    "    for j in range(len(matrix)):\n",
    "        plt.annotate(matrix[j, i], xy=(i, j), horizontalalignment='center', verticalalignment='center',\n",
    "                     weight = \"bold\", color = \"r\", fontsize=18, family = \"Times New Roman\")\n",
    "plot_confusion_matrix(matrix, labels_name , \"Confusion Matrix\" )\n",
    "\n",
    "plt.savefig(r'./ImageRecord/FusionMatrix'+'/'+NAME + '.svg', bbox_inches='tight' ,format='svg',transparent=True, dpi=200)\n",
    "plt.show()"
   ]
  },
  {
   "cell_type": "code",
   "execution_count": 61,
   "metadata": {},
   "outputs": [],
   "source": [
    "from sklearn import metrics\n",
    "\n",
    "y_test    = y_test\n",
    "y_predict = y_pred\n",
    " \n",
    "a= metrics.accuracy_score(y_test, y_predict) #预测准确率输出\n",
    "\n",
    "b = metrics.precision_score(y_test,y_predict,average='macro') #预测宏平均精确率输出\n",
    "c = metrics.precision_score(y_test, y_predict, average='micro') #预测微平均精确率输出\n",
    "d = metrics.precision_score(y_test, y_predict, average='weighted') #预测加权平均精确率输出\n",
    "  \n",
    "e = metrics.recall_score(y_test,y_predict,average='macro')#预测宏平均召回率输出\n",
    "f = metrics.recall_score(y_test,y_predict,average='micro')#预测微平均召回率输出\n",
    "g = metrics.recall_score(y_test,y_predict,average='micro')#预测加权平均召回率输出\n",
    "h = metrics.f1_score(y_test,y_predict,labels=[0, 1,2,3,4,5,6],average='weighted')#预测加权平均f1-score输出\n",
    " \n",
    "i = metrics.confusion_matrix(y_test,y_predict)#混淆矩阵输出\n",
    "j = metrics.classification_report(y_test, y_predict,digits=4)#分类报告输出\n",
    "\n",
    "save_path_ =r'./ImageRecord/metrics/txt'+'/'+NAME\n",
    "if not os.path.exists(save_path_):\n",
    "     os.makedirs(save_path_)\n",
    "record_ = [a, i, j]\n",
    "for i_ in record_:\n",
    "    with open(save_path_+'/'+NAME+'.txt','a') as f:\n",
    "        f.write(str(i_)+'\\n')"
   ]
  },
  {
   "cell_type": "code",
   "execution_count": 62,
   "metadata": {},
   "outputs": [],
   "source": [
    "# 引入必要的库\n",
    "import numpy as np\n",
    "import matplotlib.pyplot as plt\n",
    "from itertools import cycle\n",
    "from sklearn.metrics import roc_curve, auc\n",
    "from sklearn.preprocessing import label_binarize\n",
    "from sklearn.multiclass import OneVsRestClassifier\n",
    "from scipy import interp"
   ]
  },
  {
   "cell_type": "code",
   "execution_count": 63,
   "metadata": {},
   "outputs": [],
   "source": [
    "Y_test = label_binarize(y_test, classes=[0, 1, 2, 3, 4, 5, 6])\n",
    "n_classes = Y_test.shape[1]"
   ]
  },
  {
   "cell_type": "code",
   "execution_count": 64,
   "metadata": {},
   "outputs": [],
   "source": [
    "# 计算每一类的ROC\n",
    "fpr = dict()\n",
    "tpr = dict()\n",
    "roc_auc = dict()\n",
    "for i in range(n_classes):\n",
    "    fpr[i], tpr[i], _ = roc_curve(Y_test[:, i], y_probs[:, i])   \n",
    "    #Y_test样例真实标签，y_score学习器预测的样例的概率 \n",
    "    roc_auc[i] = auc(fpr[i], tpr[i])   \n",
    "    #计算ROC曲线下方的面积，fpr假正例率数组(横坐标)，tpr真正例率数组(纵坐标）\n"
   ]
  },
  {
   "cell_type": "code",
   "execution_count": 65,
   "metadata": {},
   "outputs": [
    {
     "data": {
      "text/plain": [
       "(array([[1, 0, 0, ..., 0, 0, 0],\n",
       "        [1, 0, 0, ..., 0, 0, 0],\n",
       "        [1, 0, 0, ..., 0, 0, 0],\n",
       "        ...,\n",
       "        [0, 0, 0, ..., 0, 0, 1],\n",
       "        [0, 0, 0, ..., 0, 0, 1],\n",
       "        [0, 0, 0, ..., 0, 0, 1]]),\n",
       " array([[1.00000000e+00, 1.05261426e-23, 3.48574903e-17, ...,\n",
       "         1.32043369e-18, 6.42100162e-21, 2.54285391e-18],\n",
       "        [1.00000000e+00, 1.22241520e-30, 1.46512147e-09, ...,\n",
       "         8.82740848e-20, 9.01468206e-11, 2.31701594e-12],\n",
       "        [9.99992490e-01, 4.05015642e-20, 1.48985754e-10, ...,\n",
       "         1.36358660e-10, 1.55203528e-16, 3.66886599e-12],\n",
       "        ...,\n",
       "        [0.00000000e+00, 1.21411635e-28, 1.04234595e-14, ...,\n",
       "         0.00000000e+00, 2.33219085e-25, 1.00000000e+00],\n",
       "        [8.95602305e-24, 9.85940997e-31, 2.32493605e-07, ...,\n",
       "         2.47568068e-36, 1.47938681e-19, 9.99993801e-01],\n",
       "        [0.00000000e+00, 7.79530545e-27, 4.43351817e-14, ...,\n",
       "         0.00000000e+00, 0.00000000e+00, 1.00000000e+00]], dtype=float32))"
      ]
     },
     "execution_count": 65,
     "metadata": {},
     "output_type": "execute_result"
    }
   ],
   "source": [
    "Y_test, y_probs"
   ]
  },
  {
   "cell_type": "code",
   "execution_count": 66,
   "metadata": {},
   "outputs": [],
   "source": [
    "# Plot all ROC curves\n",
    "lw=1.5\n",
    "\n",
    "colors = cycle(['aqua', 'darkorange', 'r', 'b', 'g', 'pink', 'gray'])\n",
    "material = ['gravel', 'M1', 'M2', 'M3', 'sand', 'regolith', 'silicarock']\n",
    "Score_ = []"
   ]
  },
  {
   "cell_type": "code",
   "execution_count": 77,
   "metadata": {},
   "outputs": [],
   "source": [
    "save_path = r'./ImageRecord/ROC/txtRecord'\n",
    "save_path_ = os.path.join(save_path, NAME+'/'+'ROC')\n",
    "if not os.path.exists(save_path_):\n",
    "    os.makedirs(save_path_)"
   ]
  },
  {
   "cell_type": "code",
   "execution_count": 78,
   "metadata": {
    "scrolled": false
   },
   "outputs": [
    {
     "data": {
      "image/png": "[encoded data removed]",
      "text/plain": [
       "<Figure size 800x400 with 1 Axes>"
      ]
     },
     "metadata": {},
     "output_type": "display_data"
    }
   ],
   "source": [
    "plt.figure(1, figsize=(8,4))\n",
    "\n",
    "for i, color in zip(range(n_classes), colors):\n",
    "    np.savetxt(save_path_ +'/'+ material[i] +'_ROC.txt', np.column_stack((fpr[i],tpr[i])),fmt='%.6f %.6f')\n",
    "\n",
    "    plt.plot(fpr[i], tpr[i], lw=1.5,\n",
    "             label='{0} (AUC = {1:0.2f})'\n",
    "             ''.format(material[i], roc_auc[i]))\n",
    "    Score_.append(roc_auc[i])\n",
    "\n",
    "bwith = 2 #边框宽度设置为2\n",
    "ax = plt.gca()#获取边框\n",
    "ax.spines['bottom'].set_linewidth(bwith)\n",
    "ax.spines['left'].set_linewidth(bwith)\n",
    "ax.spines['top'].set_linewidth(bwith)\n",
    "ax.spines['right'].set_linewidth(bwith)\n",
    "\n",
    "plt.plot([0, 1], [0, 1], 'k--', lw=lw)\n",
    "plt.xlim([0.0,1.01])\n",
    "plt.ylim([0.0,1.01])\n",
    "plt.xlabel('False Positive Rate', fontdict={'family': 'Times New Roman', 'size': 16, 'weight'  : \"bold\"})\n",
    "plt.ylabel('True Positive Rate', fontdict={'family': 'Times New Roman', 'size': 16, 'weight'  : \"bold\"})\n",
    "plt.title('The ROC curve of the '+ NAME, fontdict={'family': 'Times New Roman', 'size': 18, 'weight'  : \"bold\"})#SCNN\n",
    "plt.rcParams['font.sans-serif']=['Times New Roman']\n",
    "plt.rc('legend', fontsize= 12)\n",
    "plt.tick_params(labelsize=14, width=1)\n",
    "\n",
    "plt.legend(loc=\"lower right\")\n",
    "plt.savefig(r'./ImageRecord/ROC'+'/'+NAME+'_ROC.svg',format='svg', bbox_inches='tight', transparent=True, dpi=200)\n",
    "plt.show()"
   ]
  },
  {
   "cell_type": "markdown",
   "metadata": {},
   "source": [
    "## PR曲线"
   ]
  },
  {
   "cell_type": "code",
   "execution_count": 79,
   "metadata": {},
   "outputs": [],
   "source": [
    "import matplotlib.pyplot as plt\n",
    "import numpy as np\n",
    "from sklearn import svm, datasets\n",
    "from sklearn.metrics import precision_recall_curve, average_precision_score\n",
    "from sklearn.model_selection import train_test_split\n",
    "from sklearn.preprocessing import label_binarize\n",
    "from sklearn.multiclass import OneVsRestClassifier\n",
    "from itertools import cycle\n"
   ]
  },
  {
   "cell_type": "code",
   "execution_count": 80,
   "metadata": {},
   "outputs": [],
   "source": [
    "y_test_, y_score_ = Y_test, y_probs"
   ]
  },
  {
   "cell_type": "code",
   "execution_count": 81,
   "metadata": {},
   "outputs": [],
   "source": [
    "precision = dict()\n",
    "recall = dict()\n",
    "average_precision = dict()\n",
    "for i in range(n_classes):\n",
    "    precision[i],recall[i],_ = precision_recall_curve(y_test_[:,i],y_score_[:,i])\n",
    "    average_precision[i] = average_precision_score(y_test_[:,i],y_score_[:,i])\n",
    "    \n",
    "precision[\"micro\"],recall[\"micro\"],_ = precision_recall_curve(y_test_.ravel(),y_score_.ravel())\n",
    "average_precision[\"micro\"] = average_precision_score(y_test_,y_score_,average=\"micro\") "
   ]
  },
  {
   "cell_type": "code",
   "execution_count": 82,
   "metadata": {},
   "outputs": [],
   "source": [
    "# Materials = {0:'gravel', 1:'M1(gravel+sand)', 2:'M2(sand+silicarock)',3:'M3(gravel+silicarock)', 4:'sand', 5:'regolith', 6:'silicarock'}\n",
    "Materials = {0:'gravel', 1:'M1', 2:'M2',3:'M3', 4:'sand', 5:'regolith', 6:'silicarock'}\n"
   ]
  },
  {
   "cell_type": "code",
   "execution_count": 83,
   "metadata": {},
   "outputs": [],
   "source": [
    "save_path = r'./ImageRecord/ROC/txtRecord'\n",
    "save_path_ = os.path.join(save_path, NAME+'/'+'PR')\n",
    "if not os.path.exists(save_path_):\n",
    "    os.makedirs(save_path_)"
   ]
  },
  {
   "cell_type": "code",
   "execution_count": 84,
   "metadata": {},
   "outputs": [
    {
     "data": {
      "text/plain": [
       "<Figure size 640x480 with 0 Axes>"
      ]
     },
     "metadata": {},
     "output_type": "display_data"
    },
    {
     "data": {
      "image/png": "[encoded data removed]",
      "text/plain": [
       "<Figure size 800x400 with 1 Axes>"
      ]
     },
     "metadata": {},
     "output_type": "display_data"
    }
   ],
   "source": [
    "plt.clf()\n",
    "plt.figure(2, figsize=(8,4))\n",
    "# plt.plot(recall[\"micro\"],precision[\"micro\"],label = \"micro_average P_R(area={0:0.2f})\".format(average_precision[\"micro\"]))\n",
    "for i in range(n_classes):\n",
    "#     np.savetxt(save_path_ +'/'+ material[i] +'_PR.txt', np.column_stack((recall[i],precision[i])),fmt='%.6f %.6f')\n",
    "    plt.plot(recall[i],precision[i],label = \"{0}(AUC={1:0.2f})\".format(Materials[i],average_precision[i]))\n",
    "\n",
    "plt.plot( [1, 0], [0, 1], 'k--', lw=1.5)\n",
    "plt.xlim([0.0,1.01])\n",
    "plt.ylim([0.0,1.01])\n",
    "\n",
    "bwith = 2 #边框宽度设置为2\n",
    "ax = plt.gca()#获取边框\n",
    "ax.spines['bottom'].set_linewidth(bwith)\n",
    "ax.spines['left'].set_linewidth(bwith)\n",
    "ax.spines['top'].set_linewidth(bwith)\n",
    "ax.spines['right'].set_linewidth(bwith)\n",
    "\n",
    "plt.xlabel('Recall', fontdict={'family': 'Times New Roman', 'size': 16, 'weight'  : \"bold\"})\n",
    "plt.ylabel('Precision', fontdict={'family': 'Times New Roman', 'size': 16, 'weight'  : \"bold\"})\n",
    "plt.title('The PR curve of the '+ NAME, fontdict={'family': 'Times New Roman', 'size': 18, 'weight'  : \"bold\"})#SCNN\n",
    "plt.rcParams['font.sans-serif']=['Times New Roman']\n",
    "plt.rc('legend', fontsize= 12)\n",
    "plt.tick_params(labelsize=14, width=1)\n",
    "\n",
    "plt.legend(loc=\"lower left\")\n",
    "\n",
    "plt.savefig(r'./ImageRecord/PR'+'/'+NAME+'_PR.svg',format='svg', bbox_inches='tight', transparent=True, dpi=200)\n",
    "plt.show()"
   ]
  },
  {
   "cell_type": "code",
   "execution_count": null,
   "metadata": {},
   "outputs": [],
   "source": []
  },
  {
   "cell_type": "code",
   "execution_count": 36,
   "metadata": {},
   "outputs": [],
   "source": [
    "import matplotlib.pyplot as plt"
   ]
  },
  {
   "cell_type": "code",
   "execution_count": 37,
   "metadata": {},
   "outputs": [
    {
     "data": {
      "text/plain": [
       "dict_keys(['loss', 'acc', 'val_loss', 'val_acc'])"
      ]
     },
     "execution_count": 37,
     "metadata": {},
     "output_type": "execute_result"
    }
   ],
   "source": [
    "(history.history).keys()"
   ]
  },
  {
   "cell_type": "code",
   "execution_count": 38,
   "metadata": {},
   "outputs": [
    {
     "data": {
      "text/plain": [
       "list"
      ]
     },
     "execution_count": 38,
     "metadata": {},
     "output_type": "execute_result"
    }
   ],
   "source": [
    "type(history.history['acc'])"
   ]
  },
  {
   "cell_type": "code",
   "execution_count": null,
   "metadata": {},
   "outputs": [],
   "source": [
    "import os\n",
    "acc = history.history['acc']\n",
    "val_acc = history.history['val_acc']\n",
    "loss = history.history['loss']\n",
    "val_loss = history.history['val_loss']\n",
    "\n",
    "dic = {0:'acc', 1:'val_acc', 2:'loss', 3:'val_loss'}\n",
    "for index, name_metrics in enumerate([acc, val_acc, loss, val_loss]):\n",
    "    save_path = r'./ImageRecord/loss_acc'+'/'+NAME\n",
    "    if not os.path.exists(save_path):\n",
    "        os.makedirs(save_path)\n",
    "    with open( save_path +'/'+ dic[index] + '.txt','a') as f:\n",
    "        for a in name_metrics:\n",
    "            f.write(str(a)+'\\n')"
   ]
  },
  {
   "cell_type": "code",
   "execution_count": 39,
   "metadata": {},
   "outputs": [],
   "source": [
    "# Network = 'SimpleRNN'\n",
    "save_path = r'./ImageRecord/metrics/txt'\n",
    "save_path_ = os.path.join(save_path, NAME)\n",
    "if not os.path.exists(save_path_):\n",
    "    os.makedirs(save_path_)\n",
    "np.savetxt(save_path_+'/'+ 'accuracy.txt', np.array(history.history['acc']) )\n",
    "\n",
    "np.savetxt(save_path_+'/'+ 'val_accuracy.txt', history.history['val_acc'])\n",
    "np.savetxt(save_path_+'/'+ 'loss.txt', history.history['loss'])\n",
    "np.savetxt(save_path_+'/'+ 'val_loss.txt', history.history['val_loss'])"
   ]
  },
  {
   "cell_type": "code",
   "execution_count": 40,
   "metadata": {},
   "outputs": [
    {
     "name": "stdout",
     "output_type": "stream",
     "text": [
      "1116/1116 - 0s - loss: 1.2690 - acc: 0.8808\n",
      "测试集的准确度 0.8808244\n"
     ]
    },
    {
     "data": {
      "image/png": "[encoded data removed]",
      "text/plain": [
       "<Figure size 640x480 with 1 Axes>"
      ]
     },
     "metadata": {},
     "output_type": "display_data"
    }
   ],
   "source": [
    "# 评估模型\n",
    "plt.plot(history.history['acc'], label='accuracy')\n",
    "plt.plot(history.history['val_acc'], label = 'val_accuracy')\n",
    "\n",
    "plt.xlabel('Epoch')\n",
    "plt.ylabel('Accuracy')\n",
    "plt.ylim()\n",
    "plt.legend(loc='lower right')\n",
    "\n",
    "test_loss, test_acc = model.evaluate(x_test, y_test, verbose=2)\n",
    "print(\"测试集的准确度\", test_acc)\n",
    "plt.savefig(os.path.join(save_path,NAME)+'/'+NAME+'_accuracy'+str(np.round(test_acc,4))+'_acc.png')\n",
    "\n",
    "plt.show()"
   ]
  },
  {
   "cell_type": "code",
   "execution_count": 41,
   "metadata": {},
   "outputs": [
    {
     "data": {
      "image/png": "[encoded data removed]",
      "text/plain": [
       "<Figure size 640x480 with 1 Axes>"
      ]
     },
     "metadata": {},
     "output_type": "display_data"
    },
    {
     "name": "stdout",
     "output_type": "stream",
     "text": [
      "1116/1116 - 0s - loss: 1.2690 - acc: 0.8808\n",
      "测试集的准确度 0.8808244\n"
     ]
    }
   ],
   "source": [
    "# 评估模型\n",
    "plt.plot(history.history['loss'], label = 'loss')\n",
    "plt.plot(history.history['val_loss'], label = 'val_loss')\n",
    "plt.xlabel('Epoch')\n",
    "plt.ylabel('Accuracy')\n",
    "plt.ylim()\n",
    "plt.legend(loc='lower right')\n",
    "plt.savefig(os.path.join(save_path,NAME)+'/'+NAME+'_accuracy'+'_loss.png')\n",
    "\n",
    "plt.show()\n",
    "\n",
    "test_loss, test_acc = model.evaluate(x_test, y_test, verbose=2)\n",
    "print(\"测试集的准确度\", test_acc)\n"
   ]
  },
  {
   "cell_type": "code",
   "execution_count": null,
   "metadata": {},
   "outputs": [],
   "source": []
  },
  {
   "cell_type": "code",
   "execution_count": null,
   "metadata": {},
   "outputs": [],
   "source": []
  }
 ],
 "metadata": {
  "kernelspec": {
   "display_name": "ModelCreat",
   "language": "python",
   "name": "modelcreat"
  },
  "language_info": {
   "codemirror_mode": {
    "name": "ipython",
    "version": 3
   },
   "file_extension": ".py",
   "mimetype": "text/x-python",
   "name": "python",
   "nbconvert_exporter": "python",
   "pygments_lexer": "ipython3",
   "version": "3.7.15"
  }
 },
 "nbformat": 4,
 "nbformat_minor": 5
}
